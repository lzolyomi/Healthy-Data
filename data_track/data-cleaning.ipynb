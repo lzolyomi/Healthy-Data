{
 "cells": [
  {
   "cell_type": "markdown",
   "metadata": {},
   "source": [
    "# Data Cleaning\n",
    "\n",
    "Real world data is usually messy and can contain errors. These can be in the form of unnecessary (sometimes empty) columns, values not formatted correctly or recorded erroneously.\n",
    "\n",
    "In this notebook we present a few techniques on how to tackle these issues. We will use the *student_debt* data as previously."
   ]
  },
  {
   "cell_type": "code",
   "execution_count": 64,
   "metadata": {},
   "outputs": [
    {
     "data": {
      "text/html": [
       "<div>\n",
       "<style scoped>\n",
       "    .dataframe tbody tr th:only-of-type {\n",
       "        vertical-align: middle;\n",
       "    }\n",
       "\n",
       "    .dataframe tbody tr th {\n",
       "        vertical-align: top;\n",
       "    }\n",
       "\n",
       "    .dataframe thead th {\n",
       "        text-align: right;\n",
       "    }\n",
       "</style>\n",
       "<table border=\"1\" class=\"dataframe\">\n",
       "  <thead>\n",
       "    <tr style=\"text-align: right;\">\n",
       "      <th></th>\n",
       "      <th>Unnamed: 0</th>\n",
       "      <th>Period</th>\n",
       "      <th>Characteristic</th>\n",
       "      <th>No.people</th>\n",
       "      <th>Sum</th>\n",
       "      <th>Average</th>\n",
       "      <th>Median</th>\n",
       "    </tr>\n",
       "  </thead>\n",
       "  <tbody>\n",
       "    <tr>\n",
       "      <th>0</th>\n",
       "      <td>2</td>\n",
       "      <td>2011</td>\n",
       "      <td>Total</td>\n",
       "      <td>754.2</td>\n",
       "      <td>9.5</td>\n",
       "      <td>12.6</td>\n",
       "      <td>7.4</td>\n",
       "    </tr>\n",
       "    <tr>\n",
       "      <th>1</th>\n",
       "      <td>3</td>\n",
       "      <td>2011</td>\n",
       "      <td>Man</td>\n",
       "      <td>391.0</td>\n",
       "      <td>5.1</td>\n",
       "      <td>13.1</td>\n",
       "      <td>7.6</td>\n",
       "    </tr>\n",
       "    <tr>\n",
       "      <th>2</th>\n",
       "      <td>4</td>\n",
       "      <td>2011</td>\n",
       "      <td>Woman</td>\n",
       "      <td>363.1</td>\n",
       "      <td>4.4</td>\n",
       "      <td>12.0</td>\n",
       "      <td>7.2</td>\n",
       "    </tr>\n",
       "    <tr>\n",
       "      <th>3</th>\n",
       "      <td>5</td>\n",
       "      <td>2011</td>\n",
       "      <td>up to 20 years old</td>\n",
       "      <td>41.1</td>\n",
       "      <td>0.1</td>\n",
       "      <td>2.5</td>\n",
       "      <td>1.4</td>\n",
       "    </tr>\n",
       "    <tr>\n",
       "      <th>4</th>\n",
       "      <td>6</td>\n",
       "      <td>2011</td>\n",
       "      <td>between 20 and 25 years old</td>\n",
       "      <td>284.8</td>\n",
       "      <td>2.3</td>\n",
       "      <td>8.1</td>\n",
       "      <td>4.8</td>\n",
       "    </tr>\n",
       "    <tr>\n",
       "      <th>...</th>\n",
       "      <td>...</td>\n",
       "      <td>...</td>\n",
       "      <td>...</td>\n",
       "      <td>...</td>\n",
       "      <td>...</td>\n",
       "      <td>...</td>\n",
       "      <td>...</td>\n",
       "    </tr>\n",
       "    <tr>\n",
       "      <th>67</th>\n",
       "      <td>69</td>\n",
       "      <td>2019*</td>\n",
       "      <td>up to 20 years old</td>\n",
       "      <td>104.5</td>\n",
       "      <td>0.4</td>\n",
       "      <td>4.1</td>\n",
       "      <td>2.5</td>\n",
       "    </tr>\n",
       "    <tr>\n",
       "      <th>68</th>\n",
       "      <td>70</td>\n",
       "      <td>2019*</td>\n",
       "      <td>between 20 and 25 years old</td>\n",
       "      <td>479.0</td>\n",
       "      <td>5.2</td>\n",
       "      <td>10.9</td>\n",
       "      <td>7.2</td>\n",
       "    </tr>\n",
       "    <tr>\n",
       "      <th>69</th>\n",
       "      <td>71</td>\n",
       "      <td>2019*</td>\n",
       "      <td>between 25 and 45 years old</td>\n",
       "      <td>822.2</td>\n",
       "      <td>13.6</td>\n",
       "      <td>16.5</td>\n",
       "      <td>10.6</td>\n",
       "    </tr>\n",
       "    <tr>\n",
       "      <th>70</th>\n",
       "      <td>72</td>\n",
       "      <td>2019*</td>\n",
       "      <td>between 45 and 65 years old</td>\n",
       "      <td>7.7</td>\n",
       "      <td>0.1</td>\n",
       "      <td>12.4</td>\n",
       "      <td>6.2</td>\n",
       "    </tr>\n",
       "    <tr>\n",
       "      <th>71</th>\n",
       "      <td>73</td>\n",
       "      <td>2019*</td>\n",
       "      <td>65 years or older</td>\n",
       "      <td>0.3</td>\n",
       "      <td>0.0</td>\n",
       "      <td>9.6</td>\n",
       "      <td>8.1</td>\n",
       "    </tr>\n",
       "  </tbody>\n",
       "</table>\n",
       "<p>72 rows × 7 columns</p>\n",
       "</div>"
      ],
      "text/plain": [
       "    Unnamed: 0 Period               Characteristic  No.people   Sum  Average  \\\n",
       "0            2   2011                        Total      754.2   9.5     12.6   \n",
       "1            3   2011                          Man      391.0   5.1     13.1   \n",
       "2            4   2011                        Woman      363.1   4.4     12.0   \n",
       "3            5   2011           up to 20 years old       41.1   0.1      2.5   \n",
       "4            6   2011  between 20 and 25 years old      284.8   2.3      8.1   \n",
       "..         ...    ...                          ...        ...   ...      ...   \n",
       "67          69  2019*           up to 20 years old      104.5   0.4      4.1   \n",
       "68          70  2019*  between 20 and 25 years old      479.0   5.2     10.9   \n",
       "69          71  2019*  between 25 and 45 years old      822.2  13.6     16.5   \n",
       "70          72  2019*  between 45 and 65 years old        7.7   0.1     12.4   \n",
       "71          73  2019*            65 years or older        0.3   0.0      9.6   \n",
       "\n",
       "    Median  \n",
       "0      7.4  \n",
       "1      7.6  \n",
       "2      7.2  \n",
       "3      1.4  \n",
       "4      4.8  \n",
       "..     ...  \n",
       "67     2.5  \n",
       "68     7.2  \n",
       "69    10.6  \n",
       "70     6.2  \n",
       "71     8.1  \n",
       "\n",
       "[72 rows x 7 columns]"
      ]
     },
     "execution_count": 64,
     "metadata": {},
     "output_type": "execute_result"
    }
   ],
   "source": [
    "import pandas as pd\n",
    "\n",
    "df = pd.read_csv(\"student_debt.csv\")\n",
    "df"
   ]
  },
  {
   "cell_type": "markdown",
   "metadata": {},
   "source": [
    "Notice the column `Unnamed: 0` does not contain any useful information, it is a mismatched version of the index only. This usually happens when the data is misformatted. \n",
    "\n",
    "We can easily get rid of a column in Pandas with the `drop` function. The drop function accepts a list of column names in the columns attribute. \n",
    "Furthermore, you can pass `inplace = True` to perform the operation on the dataframe. If you do not do this, the operation returns a new dataframe without the specified columns."
   ]
  },
  {
   "cell_type": "code",
   "execution_count": 65,
   "metadata": {},
   "outputs": [],
   "source": [
    "df_dropped_column = df.drop(columns=[\"Unnamed: 0\"]) #returns a new dataframe \n",
    "df.drop(columns=[\"Unnamed: 0\"], inplace=True)"
   ]
  },
  {
   "cell_type": "markdown",
   "metadata": {},
   "source": [
    "Now that we have only the useful columns, we can look at the values in our data set. \n",
    "For this a useful starting point is looking at whether all data types are as expected. "
   ]
  },
  {
   "cell_type": "code",
   "execution_count": 66,
   "metadata": {},
   "outputs": [
    {
     "data": {
      "text/plain": [
       "Period             object\n",
       "Characteristic     object\n",
       "No.people         float64\n",
       "Sum               float64\n",
       "Average           float64\n",
       "Median            float64\n",
       "dtype: object"
      ]
     },
     "execution_count": 66,
     "metadata": {},
     "output_type": "execute_result"
    }
   ],
   "source": [
    "df.dtypes"
   ]
  },
  {
   "cell_type": "markdown",
   "metadata": {},
   "source": [
    "Notice that `Period` has a data type object, whereas it should be an integer or float. \n",
    "If you look at some of the year values, they have an asterisk * next to them. This is because those figures are preliminary only, but we still need those years in raw number format, such that we can perform analysis on it.\n",
    "\n",
    "We can use the `.apply()` function. This applies a custom function on every row of the dataframe its called upon.\n",
    "For simpler functions we can write a lambda function. Don't let the fancy name fool you, they are actually pretty easy.\n",
    "\n",
    "In python we can call the `replace()` method to get rid of the * after the years. Then we can convert the years to integers with `int()`."
   ]
  },
  {
   "cell_type": "code",
   "execution_count": 67,
   "metadata": {},
   "outputs": [
    {
     "data": {
      "text/plain": [
       "0     2011\n",
       "1     2011\n",
       "2     2011\n",
       "3     2011\n",
       "4     2011\n",
       "      ... \n",
       "67    2019\n",
       "68    2019\n",
       "69    2019\n",
       "70    2019\n",
       "71    2019\n",
       "Length: 72, dtype: int64"
      ]
     },
     "execution_count": 67,
     "metadata": {},
     "output_type": "execute_result"
    }
   ],
   "source": [
    "# we specifiy a lambda function which applies a certain operation on every row of our dataframe\n",
    "df.apply(lambda row:int(row['Period'].replace('*', '')), axis=1) \n",
    "#axis = 1 needed to apply the operations on every row, axis = 0 would apply the operations on every column\n"
   ]
  },
  {
   "cell_type": "markdown",
   "metadata": {},
   "source": [
    "Notice that it returns a new Pandas series, and does not modify the original dataframe. We can create or replace a column with pandas by simply specifying the column name and the values of the new column."
   ]
  },
  {
   "cell_type": "code",
   "execution_count": 68,
   "metadata": {},
   "outputs": [
    {
     "data": {
      "text/plain": [
       "Period              int64\n",
       "Characteristic     object\n",
       "No.people         float64\n",
       "Sum               float64\n",
       "Average           float64\n",
       "Median            float64\n",
       "dtype: object"
      ]
     },
     "execution_count": 68,
     "metadata": {},
     "output_type": "execute_result"
    }
   ],
   "source": [
    "df[\"Period\"] = df.apply(lambda row:int(row['Period'].replace('*', '')), axis=1) \n",
    "df.dtypes"
   ]
  },
  {
   "cell_type": "markdown",
   "metadata": {},
   "source": [
    "Notice that the data type of Period now changed to int64, which was our desired goal.\n",
    "\n",
    "# Missing values and outliers on Salary data set\n",
    "\n",
    "In some data sets you have missing or otherwise erroneous values. In the data dashboard there are only data sets without these issues, but in general, it is a very common and important step in data cleaning.\n",
    "\n",
    "For this we will use a different data set downloaded from our data dashboard."
   ]
  },
  {
   "cell_type": "code",
   "execution_count": 144,
   "metadata": {},
   "outputs": [
    {
     "data": {
      "text/html": [
       "<div>\n",
       "<style scoped>\n",
       "    .dataframe tbody tr th:only-of-type {\n",
       "        vertical-align: middle;\n",
       "    }\n",
       "\n",
       "    .dataframe tbody tr th {\n",
       "        vertical-align: top;\n",
       "    }\n",
       "\n",
       "    .dataframe thead th {\n",
       "        text-align: right;\n",
       "    }\n",
       "</style>\n",
       "<table border=\"1\" class=\"dataframe\">\n",
       "  <thead>\n",
       "    <tr style=\"text-align: right;\">\n",
       "      <th></th>\n",
       "      <th>AreaCode</th>\n",
       "      <th>Neighbourhood code</th>\n",
       "      <th>Total avg. salary (thousand EUR per year)</th>\n",
       "      <th>&lt;25yrs old</th>\n",
       "      <th>25-44yrs old</th>\n",
       "      <th>45-64yrs old</th>\n",
       "      <th>65+ yrs old</th>\n",
       "    </tr>\n",
       "  </thead>\n",
       "  <tbody>\n",
       "    <tr>\n",
       "      <th>40</th>\n",
       "      <td>06</td>\n",
       "      <td>Totaal</td>\n",
       "      <td>35,4</td>\n",
       "      <td>11,1</td>\n",
       "      <td>42,3</td>\n",
       "      <td>46,3</td>\n",
       "      <td>25,6</td>\n",
       "    </tr>\n",
       "    <tr>\n",
       "      <th>41</th>\n",
       "      <td>06</td>\n",
       "      <td>01</td>\n",
       "      <td>33,7</td>\n",
       "      <td>10,9</td>\n",
       "      <td>44,1</td>\n",
       "      <td>43,0</td>\n",
       "      <td>24,8</td>\n",
       "    </tr>\n",
       "    <tr>\n",
       "      <th>42</th>\n",
       "      <td>06</td>\n",
       "      <td>02</td>\n",
       "      <td>32,0</td>\n",
       "      <td>12,9</td>\n",
       "      <td>42,3</td>\n",
       "      <td>40,4</td>\n",
       "      <td>24,9</td>\n",
       "    </tr>\n",
       "    <tr>\n",
       "      <th>43</th>\n",
       "      <td>06</td>\n",
       "      <td>03</td>\n",
       "      <td>34,8</td>\n",
       "      <td>10,8</td>\n",
       "      <td>41,3</td>\n",
       "      <td>46,2</td>\n",
       "      <td>24,9</td>\n",
       "    </tr>\n",
       "    <tr>\n",
       "      <th>44</th>\n",
       "      <td>06</td>\n",
       "      <td>04</td>\n",
       "      <td>38,5</td>\n",
       "      <td>.</td>\n",
       "      <td>.</td>\n",
       "      <td>50,1</td>\n",
       "      <td>.</td>\n",
       "    </tr>\n",
       "    <tr>\n",
       "      <th>45</th>\n",
       "      <td>06</td>\n",
       "      <td>05</td>\n",
       "      <td>.</td>\n",
       "      <td>.</td>\n",
       "      <td>.</td>\n",
       "      <td>.</td>\n",
       "      <td>.</td>\n",
       "    </tr>\n",
       "    <tr>\n",
       "      <th>46</th>\n",
       "      <td>06</td>\n",
       "      <td>06</td>\n",
       "      <td>36,0</td>\n",
       "      <td>9,3</td>\n",
       "      <td>40,8</td>\n",
       "      <td>46,3</td>\n",
       "      <td>26,6</td>\n",
       "    </tr>\n",
       "    <tr>\n",
       "      <th>47</th>\n",
       "      <td>06</td>\n",
       "      <td>07</td>\n",
       "      <td>38,7</td>\n",
       "      <td>11,6</td>\n",
       "      <td>42,6</td>\n",
       "      <td>50,2</td>\n",
       "      <td>28,4</td>\n",
       "    </tr>\n",
       "    <tr>\n",
       "      <th>48</th>\n",
       "      <td>06</td>\n",
       "      <td>08</td>\n",
       "      <td>.</td>\n",
       "      <td>.</td>\n",
       "      <td>.</td>\n",
       "      <td>.</td>\n",
       "      <td>.</td>\n",
       "    </tr>\n",
       "    <tr>\n",
       "      <th>49</th>\n",
       "      <td>06</td>\n",
       "      <td>09</td>\n",
       "      <td>.</td>\n",
       "      <td>.</td>\n",
       "      <td>.</td>\n",
       "      <td>.</td>\n",
       "      <td>.</td>\n",
       "    </tr>\n",
       "  </tbody>\n",
       "</table>\n",
       "</div>"
      ],
      "text/plain": [
       "   AreaCode Neighbourhood code Total avg. salary (thousand EUR per year)  \\\n",
       "40       06             Totaal                                      35,4   \n",
       "41       06                 01                                      33,7   \n",
       "42       06                 02                                      32,0   \n",
       "43       06                 03                                      34,8   \n",
       "44       06                 04                                      38,5   \n",
       "45       06                 05                                         .   \n",
       "46       06                 06                                      36,0   \n",
       "47       06                 07                                      38,7   \n",
       "48       06                 08                                         .   \n",
       "49       06                 09                                         .   \n",
       "\n",
       "   <25yrs old 25-44yrs old 45-64yrs old 65+ yrs old  \n",
       "40       11,1         42,3         46,3        25,6  \n",
       "41       10,9         44,1         43,0        24,8  \n",
       "42       12,9         42,3         40,4        24,9  \n",
       "43       10,8         41,3         46,2        24,9  \n",
       "44          .            .         50,1           .  \n",
       "45          .            .            .           .  \n",
       "46        9,3         40,8         46,3        26,6  \n",
       "47       11,6         42,6         50,2        28,4  \n",
       "48          .            .            .           .  \n",
       "49          .            .            .           .  "
      ]
     },
     "execution_count": 144,
     "metadata": {},
     "output_type": "execute_result"
    }
   ],
   "source": [
    "df_salaries = pd.read_csv(\"DenBosch-avg-salary.csv\")\n",
    "df_salaries.iloc[40:50]"
   ]
  },
  {
   "cell_type": "code",
   "execution_count": 134,
   "metadata": {},
   "outputs": [
    {
     "data": {
      "text/plain": [
       "AreaCode                                     object\n",
       "Neighbourhood code                           object\n",
       "Total avg. salary (thousand EUR per year)    object\n",
       "<25yrs old                                   object\n",
       "25-44yrs old                                 object\n",
       "45-64yrs old                                 object\n",
       "65+ yrs old                                  object\n",
       "dtype: object"
      ]
     },
     "execution_count": 134,
     "metadata": {},
     "output_type": "execute_result"
    }
   ],
   "source": [
    "df_salaries.dtypes"
   ]
  },
  {
   "cell_type": "markdown",
   "metadata": {},
   "source": [
    "As you can see, part of this data has missing values (in the form of `.`) in several places. Furthermore also notice that all the numerical values are listed as objects, because Python uses a `.` to indicate decimals, and in this data set we have `,` separating them. \n",
    "\n",
    "First we have to do two things: replace the `,` to `.` in order to convert the numbers to `float`, and set the missing values to be actually missing, this latter can be done by filtering cells containing a `.` and setting their values to `pd.NA`.\n",
    "\n",
    "For this exercise, we select only the columns we want to clean. In our case, we only want columns with numbers, so we can drop *AreaCode, Neighbourhood code* columns for imputation. \n",
    "\n",
    "Later on, we need to recombine (concatenate) the imputed columns with the other two we decided to drop."
   ]
  },
  {
   "cell_type": "code",
   "execution_count": 139,
   "metadata": {},
   "outputs": [],
   "source": [
    "import numpy as np \n",
    "\n",
    "columns_not_impute = ['AreaCode', 'Neighbourhood code'] # columns we don't want to preprocess further\n",
    "df_salaries_to_impute = df_salaries.drop(columns=columns_not_impute)\n",
    "\n",
    "#iterate over all columns and replace , with . using a lambda function\n",
    "for column in df_salaries_to_impute.columns:\n",
    "    df_salaries_to_impute[column] = df_salaries_to_impute.apply(lambda row:row[column].replace(',', '.'), axis=1)\n",
    "\n",
    "df_salaries_to_impute[df_salaries_to_impute.values == '.'] = np.nan #set the missing values to NaN\n",
    "\n",
    "df_salaries_to_impute = df_salaries_to_impute.astype(float)\n"
   ]
  },
  {
   "cell_type": "markdown",
   "metadata": {},
   "source": [
    "Now with the missing values we can do something called *missing value imputation*, which replaces missing values with some plausible value.\n",
    "For this we will use the Python library scikit-learn, that has multiple methods to impute missing values."
   ]
  },
  {
   "cell_type": "code",
   "execution_count": 122,
   "metadata": {},
   "outputs": [
    {
     "data": {
      "text/plain": [
       "Total avg. salary (thousand EUR per year)    object\n",
       "<25yrs old                                   object\n",
       "25-44yrs old                                 object\n",
       "45-64yrs old                                 object\n",
       "65+ yrs old                                  object\n",
       "dtype: object"
      ]
     },
     "execution_count": 122,
     "metadata": {},
     "output_type": "execute_result"
    }
   ],
   "source": [
    "df_salaries_to_impute.dtypes"
   ]
  },
  {
   "cell_type": "code",
   "execution_count": 121,
   "metadata": {},
   "outputs": [
    {
     "ename": "ValueError",
     "evalue": "Cannot use mean strategy with non-numeric data:\ncould not convert string to float: '35,4'",
     "output_type": "error",
     "traceback": [
      "\u001b[0;31m---------------------------------------------------------------------------\u001b[0m",
      "\u001b[0;31mValueError\u001b[0m                                Traceback (most recent call last)",
      "\u001b[0;32m/var/folders/z4/_gr926652s36cq6g6g4hfcdh0000gn/T/ipykernel_96360/3808278810.py\u001b[0m in \u001b[0;36m<module>\u001b[0;34m\u001b[0m\n\u001b[1;32m      2\u001b[0m \u001b[0;34m\u001b[0m\u001b[0m\n\u001b[1;32m      3\u001b[0m \u001b[0mimputer\u001b[0m \u001b[0;34m=\u001b[0m \u001b[0mSimpleImputer\u001b[0m\u001b[0;34m(\u001b[0m\u001b[0;34m)\u001b[0m \u001b[0;31m#initialize scikit learn imputer\u001b[0m\u001b[0;34m\u001b[0m\u001b[0;34m\u001b[0m\u001b[0m\n\u001b[0;32m----> 4\u001b[0;31m \u001b[0mimputer\u001b[0m\u001b[0;34m.\u001b[0m\u001b[0mfit_transform\u001b[0m\u001b[0;34m(\u001b[0m\u001b[0mdf_salaries_to_impute\u001b[0m\u001b[0;34m)\u001b[0m\u001b[0;34m\u001b[0m\u001b[0;34m\u001b[0m\u001b[0m\n\u001b[0m",
      "\u001b[0;32m/opt/homebrew/Caskroom/miniforge/base/envs/health/lib/python3.9/site-packages/sklearn/base.py\u001b[0m in \u001b[0;36mfit_transform\u001b[0;34m(self, X, y, **fit_params)\u001b[0m\n\u001b[1;32m    850\u001b[0m         \u001b[0;32mif\u001b[0m \u001b[0my\u001b[0m \u001b[0;32mis\u001b[0m \u001b[0;32mNone\u001b[0m\u001b[0;34m:\u001b[0m\u001b[0;34m\u001b[0m\u001b[0;34m\u001b[0m\u001b[0m\n\u001b[1;32m    851\u001b[0m             \u001b[0;31m# fit method of arity 1 (unsupervised transformation)\u001b[0m\u001b[0;34m\u001b[0m\u001b[0;34m\u001b[0m\u001b[0m\n\u001b[0;32m--> 852\u001b[0;31m             \u001b[0;32mreturn\u001b[0m \u001b[0mself\u001b[0m\u001b[0;34m.\u001b[0m\u001b[0mfit\u001b[0m\u001b[0;34m(\u001b[0m\u001b[0mX\u001b[0m\u001b[0;34m,\u001b[0m \u001b[0;34m**\u001b[0m\u001b[0mfit_params\u001b[0m\u001b[0;34m)\u001b[0m\u001b[0;34m.\u001b[0m\u001b[0mtransform\u001b[0m\u001b[0;34m(\u001b[0m\u001b[0mX\u001b[0m\u001b[0;34m)\u001b[0m\u001b[0;34m\u001b[0m\u001b[0;34m\u001b[0m\u001b[0m\n\u001b[0m\u001b[1;32m    853\u001b[0m         \u001b[0;32melse\u001b[0m\u001b[0;34m:\u001b[0m\u001b[0;34m\u001b[0m\u001b[0;34m\u001b[0m\u001b[0m\n\u001b[1;32m    854\u001b[0m             \u001b[0;31m# fit method of arity 2 (supervised transformation)\u001b[0m\u001b[0;34m\u001b[0m\u001b[0;34m\u001b[0m\u001b[0m\n",
      "\u001b[0;32m/opt/homebrew/Caskroom/miniforge/base/envs/health/lib/python3.9/site-packages/sklearn/impute/_base.py\u001b[0m in \u001b[0;36mfit\u001b[0;34m(self, X, y)\u001b[0m\n\u001b[1;32m    317\u001b[0m             \u001b[0mFitted\u001b[0m \u001b[0mestimator\u001b[0m\u001b[0;34m.\u001b[0m\u001b[0;34m\u001b[0m\u001b[0;34m\u001b[0m\u001b[0m\n\u001b[1;32m    318\u001b[0m         \"\"\"\n\u001b[0;32m--> 319\u001b[0;31m         \u001b[0mX\u001b[0m \u001b[0;34m=\u001b[0m \u001b[0mself\u001b[0m\u001b[0;34m.\u001b[0m\u001b[0m_validate_input\u001b[0m\u001b[0;34m(\u001b[0m\u001b[0mX\u001b[0m\u001b[0;34m,\u001b[0m \u001b[0min_fit\u001b[0m\u001b[0;34m=\u001b[0m\u001b[0;32mTrue\u001b[0m\u001b[0;34m)\u001b[0m\u001b[0;34m\u001b[0m\u001b[0;34m\u001b[0m\u001b[0m\n\u001b[0m\u001b[1;32m    320\u001b[0m \u001b[0;34m\u001b[0m\u001b[0m\n\u001b[1;32m    321\u001b[0m         \u001b[0;31m# default fill_value is 0 for numerical input and \"missing_value\"\u001b[0m\u001b[0;34m\u001b[0m\u001b[0;34m\u001b[0m\u001b[0m\n",
      "\u001b[0;32m/opt/homebrew/Caskroom/miniforge/base/envs/health/lib/python3.9/site-packages/sklearn/impute/_base.py\u001b[0m in \u001b[0;36m_validate_input\u001b[0;34m(self, X, in_fit)\u001b[0m\n\u001b[1;32m    283\u001b[0m                     )\n\u001b[1;32m    284\u001b[0m                 )\n\u001b[0;32m--> 285\u001b[0;31m                 \u001b[0;32mraise\u001b[0m \u001b[0mnew_ve\u001b[0m \u001b[0;32mfrom\u001b[0m \u001b[0;32mNone\u001b[0m\u001b[0;34m\u001b[0m\u001b[0;34m\u001b[0m\u001b[0m\n\u001b[0m\u001b[1;32m    286\u001b[0m             \u001b[0;32melse\u001b[0m\u001b[0;34m:\u001b[0m\u001b[0;34m\u001b[0m\u001b[0;34m\u001b[0m\u001b[0m\n\u001b[1;32m    287\u001b[0m                 \u001b[0;32mraise\u001b[0m \u001b[0mve\u001b[0m\u001b[0;34m\u001b[0m\u001b[0;34m\u001b[0m\u001b[0m\n",
      "\u001b[0;31mValueError\u001b[0m: Cannot use mean strategy with non-numeric data:\ncould not convert string to float: '35,4'"
     ]
    }
   ],
   "source": [
    "from sklearn.impute import SimpleImputer\n",
    "\n",
    "imputer = SimpleImputer() #initialize scikit learn imputer\n",
    "imputer.fit_transform(df_salaries_to_impute)"
   ]
  }
 ],
 "metadata": {
  "kernelspec": {
   "display_name": "Python 3.9.7 ('health')",
   "language": "python",
   "name": "python3"
  },
  "language_info": {
   "codemirror_mode": {
    "name": "ipython",
    "version": 3
   },
   "file_extension": ".py",
   "mimetype": "text/x-python",
   "name": "python",
   "nbconvert_exporter": "python",
   "pygments_lexer": "ipython3",
   "version": "3.9.7"
  },
  "orig_nbformat": 4,
  "vscode": {
   "interpreter": {
    "hash": "1973c0181cad203b4324511b50a7a7200e1137d5fa7327ae47e76e06849030ad"
   }
  }
 },
 "nbformat": 4,
 "nbformat_minor": 2
}
