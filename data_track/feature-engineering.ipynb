{
 "cells": [
  {
   "cell_type": "markdown",
   "metadata": {},
   "source": [
    "# Feature Engineering\n",
    "\n",
    "Most often in data driven value creation, to answer specific questions we need to 'create' new data by using what we already have. This process can involve combining info from columns, transforming them or presenting them in a different way. \n",
    "\n",
    "The collective name of these processes is called feature engineering. In opposition to the previous modules, feature engineering is not focused that much on the technical aspects (i.e. programming), but rather on thinking about what _could be_ useful information from the data. \n",
    "\n",
    "In this notebook we will show a few techniques and commonly used quantities for feature engineering, but really, this part is also about your creativity and thinking a bit out of the box.\n",
    "\n",
    "First we start with the `renewable_electricity` data set."
   ]
  },
  {
   "cell_type": "code",
   "execution_count": null,
   "metadata": {},
   "outputs": [],
   "source": [
    "import pandas as pd\n",
    "\n",
    "df = pd.read_csv('data/renewable_electricity.csv').drop(columns=['Unnamed: 0']) #drop again the unused column\n",
    "df"
   ]
  },
  {
   "cell_type": "markdown",
   "metadata": {},
   "source": [
    "For feature engineering it is necessary to have an understanding of the topic of the data, in this case a basic understanding on renewable electricity.\n",
    "\n",
    "Let's say we want to add a new column `Percentage of total` that contains what percentage of the total production (Gross production normalized) the given electricty source produced. \n",
    "\n",
    "For this we first need to look at what was the total production of that year (with source = Total), and divide the production of each source with that value.\n",
    "In technical terms, we need to:\n",
    "- first store the total production per year in an easily accessible format. We will use a Pandas series with the year as index and Gross production as values.\n",
    "- Make a function that takes in a row of our dataframe, and given the year it calculates this percentage.\n",
    "- Use the `apply()` method on our dataframe to create the new column"
   ]
  },
  {
   "cell_type": "code",
   "execution_count": null,
   "metadata": {},
   "outputs": [],
   "source": [
    "df_total_productions = df[df['Source'] == 'Total']\n",
    "\n",
    "production_per_year = pd.Series(df_total_productions['Gross production'].values, index=df_total_productions['Periods'].values)\n",
    "#notice that we used .values to only get the values. If you know you only need the (list of) values from a series/dataframe, its a useful feature\n",
    "\n",
    "production_per_year[1995] # we can access the gross total production for every year like this"
   ]
  },
  {
   "cell_type": "code",
   "execution_count": null,
   "metadata": {},
   "outputs": [],
   "source": [
    "#Next we define the funtion that we will then apply to every row\n",
    "def percentage_of_total(row): #important: functions for .apply() can only take one argument, here the row\n",
    "    prod_for_year = production_per_year[row['Periods']]\n",
    "    percentage = row['Gross production'] / prod_for_year\n",
    "    return percentage\n",
    "\n",
    "df['Percentage of total'] = df.apply(percentage_of_total, axis=1)\n",
    "df.tail(5) #and just like this, we have a new row with this information"
   ]
  },
  {
   "cell_type": "markdown",
   "metadata": {},
   "source": [
    "Let's say we are also interested what percentage of the `Net production` is to the `Gross producion`. We will call this column `Net percentage`\n",
    "\n",
    "Remember that we can perform operations on entire columns of a dataframe"
   ]
  },
  {
   "cell_type": "code",
   "execution_count": null,
   "metadata": {},
   "outputs": [],
   "source": [
    "df['Net percentage'] = df['Net production'] / df['Gross production'] \n",
    "# its as simple as this. Just divide the values in Net production with those in Gross production\n"
   ]
  },
  {
   "cell_type": "markdown",
   "metadata": {},
   "source": [
    "Now we actually want to convert these proportions to percentages. In pandas when we multiply/divide/add a number to a column it will perform the same operation in all cells."
   ]
  },
  {
   "cell_type": "code",
   "execution_count": null,
   "metadata": {},
   "outputs": [],
   "source": [
    "df['Net percentage'] = df['Net percentage'] * 100 # Multiply with 100 to get actual percentages for both calculated values\n",
    "df['Percentage of total'] = df['Percentage of total'] * 100\n",
    "df"
   ]
  },
  {
   "cell_type": "markdown",
   "metadata": {},
   "source": [
    "As a final example for this data set, let's say we want to see for each year which source produced the highest amount of electricity, and add this as an extra column in our data called `Highest performing`\n",
    "\n",
    "For this we need to do the followings:\n",
    "- Create a pandas Series with the highest outputs for each year. We can do this by filtering the data for years and take the max value of the `Gross production` column. Note that we have to remove the sources `Total, wind-total, biomass-total` as they are summing up already.\n",
    "- Create a function that accepts a row and based on a year, returns the highest output source for that year\n",
    "- with `.apply()` apply it to the new column"
   ]
  },
  {
   "cell_type": "code",
   "execution_count": null,
   "metadata": {},
   "outputs": [],
   "source": [
    "sources_to_delete = ['Total', 'wind-total', 'biomass-total']\n",
    "\n",
    "df_filtered = df[~df['Source'].isin(sources_to_delete)] # the ~ character prior to any conditional means that keep the opposite (negate)\n",
    "years = df['Periods'].unique() #get all the years present in the dataframe\n",
    "\n",
    "# we create an empty dictionary to store the values. A dictionary can be used to easily look up values based on a specified key /index\n",
    "highest_per_year = {} #empty {} initialize an empty dictionary\n",
    "#iterate over years and select the highest performing row, keep the source\n",
    "for y in years:\n",
    "    idx = df_filtered[df_filtered['Periods'] == y]['Gross production'].argmax() #argmax returns the INDEX of the highest value\n",
    "    highest_row = df_filtered[df_filtered['Periods'] == y].iloc[idx] #with .iloc[] we can get a single row at the specified index\n",
    "    highest_source = highest_row['Source']\n",
    "    highest_per_year[y] = highest_source\n",
    "# now we can use the dictionary to get the highest performing source for each year, simply by looking up:\n",
    "highest_per_year[2014], highest_per_year[1997]\n"
   ]
  },
  {
   "cell_type": "code",
   "execution_count": null,
   "metadata": {},
   "outputs": [],
   "source": [
    "# we can just use a lambda function here, as all we need to do is look up the corresponding highest value for the year \n",
    "# in the dictionary created above\n",
    "\n",
    "df['Highest performing'] = df.apply(lambda row: highest_per_year[row['Periods']], axis=1) \n",
    "df"
   ]
  },
  {
   "cell_type": "markdown",
   "metadata": {},
   "source": [
    "This might have been a bit more challenging example, but this is the idea of feature engineering, that we need to think of more meaningful data that we can add to our dataframes, using the already available data sets."
   ]
  },
  {
   "cell_type": "markdown",
   "metadata": {},
   "source": [
    "# Exercises\n",
    "\n",
    "To practice feature engineering, you are free to use whichever dataset you feel like you could use to expand with features. If in doubt about whether an extra column is useful, or how to make it, always feel free to reach out to a Data mentor.\n",
    "\n",
    "We do want to give a few practice exercises, this time we'll use the `student_debt.csv` dataset. NOTE: This data set is used as example in the data_cleaning notebook. You will need to copy the code that converts the `Period` column to numbers with the Lambda funcionts:\n",
    "\n",
    "```df[\"Period\"] = df.apply(lambda row:int(row['Period'].replace('*', '')), axis=1)```\n",
    "\n",
    "### Exercise 1\n",
    "Create a new column `Percentage of Sum`  that contains, for each row, what percentage of student loan is held by them in that year. Essentially, calculate the percentage of the `Sum` in each column using the `Sum` in the `Total` row per year. After you calculated it, scale it such that it can be made into a percentage.\n",
    "\n",
    "This exercise is highly similar to what we've done before in this notebook.\n"
   ]
  },
  {
   "cell_type": "code",
   "execution_count": null,
   "metadata": {},
   "outputs": [],
   "source": [
    "# ------------ Exercise code comes here ------------- #"
   ]
  },
  {
   "cell_type": "markdown",
   "metadata": {},
   "source": [
    "### Exercise 2\n",
    "\n",
    "Create a new column `highest in debt` which contains the highest _age group_ that has the highest _average_ student debt for each year. For this exercise you should:\n",
    "- Filter the dataframe so it does not contain the `Total, Man, Woman` rows.\n",
    "- Check for each year which _age group_ holds the highest Average (if you need check the example above how we did it)\n",
    "- Store this data somehow (hint: you can use a dictionary again)\n",
    "- Apply a (lambda) function to create the new column."
   ]
  },
  {
   "cell_type": "code",
   "execution_count": null,
   "metadata": {},
   "outputs": [],
   "source": [
    "# ------------ Exercise code comes here ------------- #"
   ]
  },
  {
   "cell_type": "markdown",
   "metadata": {},
   "source": [
    "### Further exercises\n",
    "\n",
    "If you feel like, go to the data dasboard and download a new data set that you can use for other feature engineering tasks. \n",
    "This is really a field where practice makes perfect :) So don't be afraid to experiment and play around with the plethora of data sets we have to offer."
   ]
  },
  {
   "cell_type": "code",
   "execution_count": null,
   "metadata": {},
   "outputs": [],
   "source": [
    "# ------------ Exercise code comes here ------------- #"
   ]
  }
 ],
 "metadata": {
  "kernelspec": {
   "display_name": "Python 3.9.7 ('health')",
   "language": "python",
   "name": "python3"
  },
  "language_info": {
   "codemirror_mode": {
    "name": "ipython",
    "version": 3
   },
   "file_extension": ".py",
   "mimetype": "text/x-python",
   "name": "python",
   "nbconvert_exporter": "python",
   "pygments_lexer": "ipython3",
   "version": "3.9.7"
  },
  "orig_nbformat": 4,
  "vscode": {
   "interpreter": {
    "hash": "1973c0181cad203b4324511b50a7a7200e1137d5fa7327ae47e76e06849030ad"
   }
  }
 },
 "nbformat": 4,
 "nbformat_minor": 2
}
