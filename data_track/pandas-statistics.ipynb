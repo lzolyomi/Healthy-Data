{
 "cells": [
  {
   "cell_type": "markdown",
   "metadata": {},
   "source": [
    "# Calculate basic Statistics in Pandas\n",
    "\n",
    "In this section we will see how to calculate basic statistics of a data set with Pandas.\n",
    "\n",
    "We will use the same data sets as in the previous notebooks."
   ]
  },
  {
   "cell_type": "code",
   "execution_count": 4,
   "metadata": {},
   "outputs": [],
   "source": [
    "import pandas as pd\n",
    "\n",
    "df = pd.read_csv('./student_debt.csv')"
   ]
  },
  {
   "cell_type": "markdown",
   "metadata": {},
   "source": [
    "Looking at basic statistics of the data such as the minimum, maximum, average value of a column can already give us a lot of information and insight about the characteristics of the data.\n",
    "\n",
    "Pandas has an easy way of retrieving all statistics from a dataframe with the `.describe()` method."
   ]
  },
  {
   "cell_type": "code",
   "execution_count": 5,
   "metadata": {},
   "outputs": [
    {
     "data": {
      "text/html": [
       "<div>\n",
       "<style scoped>\n",
       "    .dataframe tbody tr th:only-of-type {\n",
       "        vertical-align: middle;\n",
       "    }\n",
       "\n",
       "    .dataframe tbody tr th {\n",
       "        vertical-align: top;\n",
       "    }\n",
       "\n",
       "    .dataframe thead th {\n",
       "        text-align: right;\n",
       "    }\n",
       "</style>\n",
       "<table border=\"1\" class=\"dataframe\">\n",
       "  <thead>\n",
       "    <tr style=\"text-align: right;\">\n",
       "      <th></th>\n",
       "      <th>Unnamed: 0</th>\n",
       "      <th>No.people</th>\n",
       "      <th>Sum</th>\n",
       "      <th>Average</th>\n",
       "      <th>Median</th>\n",
       "    </tr>\n",
       "  </thead>\n",
       "  <tbody>\n",
       "    <tr>\n",
       "      <th>count</th>\n",
       "      <td>72.00000</td>\n",
       "      <td>72.000000</td>\n",
       "      <td>72.000000</td>\n",
       "      <td>72.000000</td>\n",
       "      <td>72.000000</td>\n",
       "    </tr>\n",
       "    <tr>\n",
       "      <th>mean</th>\n",
       "      <td>37.50000</td>\n",
       "      <td>402.437500</td>\n",
       "      <td>5.045833</td>\n",
       "      <td>10.547222</td>\n",
       "      <td>6.606944</td>\n",
       "    </tr>\n",
       "    <tr>\n",
       "      <th>std</th>\n",
       "      <td>20.92845</td>\n",
       "      <td>366.874162</td>\n",
       "      <td>5.049165</td>\n",
       "      <td>3.751093</td>\n",
       "      <td>2.435554</td>\n",
       "    </tr>\n",
       "    <tr>\n",
       "      <th>min</th>\n",
       "      <td>2.00000</td>\n",
       "      <td>0.100000</td>\n",
       "      <td>0.000000</td>\n",
       "      <td>2.200000</td>\n",
       "      <td>1.400000</td>\n",
       "    </tr>\n",
       "    <tr>\n",
       "      <th>25%</th>\n",
       "      <td>19.75000</td>\n",
       "      <td>32.300000</td>\n",
       "      <td>0.100000</td>\n",
       "      <td>8.825000</td>\n",
       "      <td>5.000000</td>\n",
       "    </tr>\n",
       "    <tr>\n",
       "      <th>50%</th>\n",
       "      <td>37.50000</td>\n",
       "      <td>411.150000</td>\n",
       "      <td>4.550000</td>\n",
       "      <td>11.800000</td>\n",
       "      <td>6.850000</td>\n",
       "    </tr>\n",
       "    <tr>\n",
       "      <th>75%</th>\n",
       "      <td>55.25000</td>\n",
       "      <td>632.425000</td>\n",
       "      <td>8.575000</td>\n",
       "      <td>12.600000</td>\n",
       "      <td>8.250000</td>\n",
       "    </tr>\n",
       "    <tr>\n",
       "      <th>max</th>\n",
       "      <td>73.00000</td>\n",
       "      <td>1413.700000</td>\n",
       "      <td>19.300000</td>\n",
       "      <td>16.500000</td>\n",
       "      <td>10.900000</td>\n",
       "    </tr>\n",
       "  </tbody>\n",
       "</table>\n",
       "</div>"
      ],
      "text/plain": [
       "       Unnamed: 0    No.people        Sum    Average     Median\n",
       "count    72.00000    72.000000  72.000000  72.000000  72.000000\n",
       "mean     37.50000   402.437500   5.045833  10.547222   6.606944\n",
       "std      20.92845   366.874162   5.049165   3.751093   2.435554\n",
       "min       2.00000     0.100000   0.000000   2.200000   1.400000\n",
       "25%      19.75000    32.300000   0.100000   8.825000   5.000000\n",
       "50%      37.50000   411.150000   4.550000  11.800000   6.850000\n",
       "75%      55.25000   632.425000   8.575000  12.600000   8.250000\n",
       "max      73.00000  1413.700000  19.300000  16.500000  10.900000"
      ]
     },
     "execution_count": 5,
     "metadata": {},
     "output_type": "execute_result"
    }
   ],
   "source": [
    "df.describe()"
   ]
  },
  {
   "cell_type": "markdown",
   "metadata": {},
   "source": [
    "Here we can see the mean (average), minimum, maximum values amongst others. Notice that the index of each row is the type of statistic it displays. \n",
    "We can use `.loc[]` to access a certain row's all values"
   ]
  },
  {
   "cell_type": "code",
   "execution_count": 7,
   "metadata": {},
   "outputs": [
    {
     "data": {
      "text/plain": [
       "Unnamed: 0     37.500000\n",
       "No.people     402.437500\n",
       "Sum             5.045833\n",
       "Average        10.547222\n",
       "Median          6.606944\n",
       "Name: mean, dtype: float64"
      ]
     },
     "execution_count": 7,
     "metadata": {},
     "output_type": "execute_result"
    }
   ],
   "source": [
    "df.describe().loc['mean'] #get the average for all values"
   ]
  }
 ],
 "metadata": {
  "kernelspec": {
   "display_name": "Python 3.9.7 ('health')",
   "language": "python",
   "name": "python3"
  },
  "language_info": {
   "codemirror_mode": {
    "name": "ipython",
    "version": 3
   },
   "file_extension": ".py",
   "mimetype": "text/x-python",
   "name": "python",
   "nbconvert_exporter": "python",
   "pygments_lexer": "ipython3",
   "version": "3.9.7"
  },
  "orig_nbformat": 4,
  "vscode": {
   "interpreter": {
    "hash": "1973c0181cad203b4324511b50a7a7200e1137d5fa7327ae47e76e06849030ad"
   }
  }
 },
 "nbformat": 4,
 "nbformat_minor": 2
}
