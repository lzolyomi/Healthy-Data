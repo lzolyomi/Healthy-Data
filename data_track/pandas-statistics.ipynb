{
 "cells": [
  {
   "cell_type": "markdown",
   "metadata": {},
   "source": [
    "# Calculate basic Statistics in Pandas\n",
    "\n",
    "In this section we will see how to calculate basic statistics of a data set with Pandas.\n",
    "\n",
    "We will use the same data sets as in the previous notebooks."
   ]
  },
  {
   "cell_type": "code",
   "execution_count": null,
   "metadata": {},
   "outputs": [],
   "source": [
    "import pandas as pd\n",
    "\n",
    "df = pd.read_csv('student_debt.csv')"
   ]
  },
  {
   "cell_type": "markdown",
   "metadata": {},
   "source": [
    "Looking at basic statistics of the data such as the minimum, maximum, average value of a column can already give us a lot of information and insight about the characteristics of the data.\n",
    "\n",
    "Pandas has an easy way of retrieving all statistics from a dataframe with the `.describe()` method."
   ]
  },
  {
   "cell_type": "code",
   "execution_count": null,
   "metadata": {},
   "outputs": [],
   "source": [
    "df.describe()"
   ]
  },
  {
   "cell_type": "markdown",
   "metadata": {},
   "source": [
    "Here we can see the mean (average), minimum, maximum values, as well as a few indicative percentiles. Notice that the `describe()` method retrieves a dataframe, that you can interact with just like any other data frame.\n",
    "One difference is that the index of each row is the type of statistic it displays. \n",
    "We can use `.loc[]` to access a certain row's all values (in this case we can get a certain type of statistic for all columns)"
   ]
  },
  {
   "cell_type": "code",
   "execution_count": null,
   "metadata": {},
   "outputs": [],
   "source": [
    "df.describe().loc['mean'] #get the average for all values"
   ]
  },
  {
   "cell_type": "markdown",
   "metadata": {},
   "source": [
    "If we are curious about one specific statistics (e.g.; we only want to know the average, the minimum or maximum values etc..), Pandas has built in methods to get all of these. \n",
    "These methods can be called on a Dataframe (this returns the statistic for all columns separately), or on a Pandas Series. This returns a single number and is very useful in the calculation of other possible metrics.\n",
    "\n",
    "These methods are the following:\n",
    "- `.min()`: returns minimum\n",
    "- `.max()`: returns maximum\n",
    "- `.mean()`: returns average (mean)\n",
    "- `.std()`: returns standard deviation (its a statistical quantity measuring how 'spread out' the values of a column are)\n",
    "- `.count()`: Returns the number of values in a column (can be useful if we have missing values, as it only counts non-missing values)"
   ]
  },
  {
   "cell_type": "code",
   "execution_count": null,
   "metadata": {},
   "outputs": [],
   "source": [
    "df.min() # Minimum values of all columns"
   ]
  },
  {
   "cell_type": "code",
   "execution_count": null,
   "metadata": {},
   "outputs": [],
   "source": [
    "df['No.people'].max() # Maximum of a specific column"
   ]
  },
  {
   "cell_type": "markdown",
   "metadata": {},
   "source": [
    "# Exercises\n",
    "\n",
    "In these exercises we will use the `renewable_electricity.csv` dataset.\n",
    "\n",
    "### Exercise 1\n",
    "\n",
    "Calculate the minimum and maximum of _Gross production_ in the data."
   ]
  },
  {
   "cell_type": "code",
   "execution_count": null,
   "metadata": {},
   "outputs": [],
   "source": [
    "#------------ Exercise code comes here ------------- #"
   ]
  },
  {
   "cell_type": "markdown",
   "metadata": {},
   "source": [
    "### Exercise 2\n",
    "\n",
    "In data analysis we are sometimes interested in the range of a column. The range is the difference between the smallest and largest value in the column.\n",
    "\n",
    "Calculate the range for _Capacity (megawatt)_ and _Installations in year_."
   ]
  },
  {
   "cell_type": "code",
   "execution_count": null,
   "metadata": {},
   "outputs": [],
   "source": [
    "#------------ Exercise code comes here ------------- #"
   ]
  },
  {
   "cell_type": "markdown",
   "metadata": {},
   "source": [
    "### Exercise 3\n",
    "\n",
    "What was the average _Gross production_ throughout all years for the total wind energy? (hint: for total wind energy, the _Source_ column should say _wind-total_)"
   ]
  },
  {
   "cell_type": "code",
   "execution_count": null,
   "metadata": {},
   "outputs": [],
   "source": [
    "#------------ Exercise code comes here ------------- #"
   ]
  },
  {
   "cell_type": "markdown",
   "metadata": {},
   "source": [
    "### Bonus exercise\n",
    "\n",
    "This exercise really puts all your knowledge to the test, so don't worry if you cannot do it just yet :)\n",
    "\n",
    "What was the maximum number of installations in each year? Hint: you should use a list, or dictionary to store your results. If you are not familiar with these, don't be afraid to ask one of the Data mentors, we are happy to help! :)\n",
    "\n",
    "As a bonus, you could try and find out which _Source_ belongs to this number (i.e. what type of electrical power plant had the most number of installations in every year)"
   ]
  },
  {
   "cell_type": "code",
   "execution_count": null,
   "metadata": {},
   "outputs": [],
   "source": [
    "#------------ Exercise code comes here ------------- #"
   ]
  }
 ],
 "metadata": {
  "kernelspec": {
   "display_name": "Python 3.9.7 ('health')",
   "language": "python",
   "name": "python3"
  },
  "language_info": {
   "codemirror_mode": {
    "name": "ipython",
    "version": 3
   },
   "file_extension": ".py",
   "mimetype": "text/x-python",
   "name": "python",
   "nbconvert_exporter": "python",
   "pygments_lexer": "ipython3",
   "version": "3.9.7"
  },
  "orig_nbformat": 4,
  "vscode": {
   "interpreter": {
    "hash": "1973c0181cad203b4324511b50a7a7200e1137d5fa7327ae47e76e06849030ad"
   }
  }
 },
 "nbformat": 4,
 "nbformat_minor": 2
}
