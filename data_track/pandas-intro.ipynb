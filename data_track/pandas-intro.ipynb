{
 "cells": [
  {
   "cell_type": "markdown",
   "metadata": {},
   "source": [
    "# Basics of pandas\n",
    "\n",
    "In this Jupyter notebook we cover:\n",
    "- How to read in different data types\n",
    "- What are DataFrames and how to interact with them\n",
    "- How to query these DataFrames, and retrieve only a subset of it\n",
    "- How to apply filters on the values\n",
    "\n",
    "### First start with reading in a data set\n",
    "Here we will use the student_debt data set, it can be found in the teamlinq lesson, as well as in the data dashboard."
   ]
  },
  {
   "cell_type": "markdown",
   "metadata": {},
   "source": [
    "## <span class=\"section\">1.</span> Data frames\n"
   ]
  },
  {
   "cell_type": "markdown",
   "metadata": {},
   "source": [
    "The most important data type of the Pandas library is **`pd.DataFrame`**.\n",
    "It is a _composite_ data type, whose values are called **data frames**.\n",
    "\n",
    "A data frame is a two-dimensional arrangement of data values. It can be helpful to think of it as a table with rows and columns. \n",
    "The data itself is typically of a primitive data type (`int`, `float`, `bool`, `str`,\n",
    "but also some variants of these as offered by the NumPy library;\n",
    "details are not relevant at this point).\n",
    "\n",
    "Here is an example in which we create a data frame from scratch; we name it `df`.\n",
    "It has\n",
    "\n",
    "* four rows indexed from 0 through 3, and\n",
    "* three columns labeled `'A'`, `'B'`, and `'C'`."
   ]
  },
  {
   "cell_type": "code",
   "execution_count": 57,
   "metadata": {},
   "outputs": [
    {
     "data": {
      "text/html": [
       "<div>\n",
       "<style scoped>\n",
       "    .dataframe tbody tr th:only-of-type {\n",
       "        vertical-align: middle;\n",
       "    }\n",
       "\n",
       "    .dataframe tbody tr th {\n",
       "        vertical-align: top;\n",
       "    }\n",
       "\n",
       "    .dataframe thead th {\n",
       "        text-align: right;\n",
       "    }\n",
       "</style>\n",
       "<table border=\"1\" class=\"dataframe\">\n",
       "  <thead>\n",
       "    <tr style=\"text-align: right;\">\n",
       "      <th></th>\n",
       "      <th>A</th>\n",
       "      <th>B</th>\n",
       "      <th>C</th>\n",
       "    </tr>\n",
       "  </thead>\n",
       "  <tbody>\n",
       "    <tr>\n",
       "      <th>0</th>\n",
       "      <td>1</td>\n",
       "      <td>one</td>\n",
       "      <td>False</td>\n",
       "    </tr>\n",
       "    <tr>\n",
       "      <th>1</th>\n",
       "      <td>2</td>\n",
       "      <td>two</td>\n",
       "      <td>True</td>\n",
       "    </tr>\n",
       "    <tr>\n",
       "      <th>2</th>\n",
       "      <td>3</td>\n",
       "      <td>three</td>\n",
       "      <td>False</td>\n",
       "    </tr>\n",
       "    <tr>\n",
       "      <th>3</th>\n",
       "      <td>4</td>\n",
       "      <td>four</td>\n",
       "      <td>True</td>\n",
       "    </tr>\n",
       "  </tbody>\n",
       "</table>\n",
       "</div>"
      ],
      "text/plain": [
       "   A      B      C\n",
       "0  1    one  False\n",
       "1  2    two   True\n",
       "2  3  three  False\n",
       "3  4   four   True"
      ]
     },
     "execution_count": 57,
     "metadata": {},
     "output_type": "execute_result"
    }
   ],
   "source": [
    "df = pd.DataFrame({'A': [1, 2, 3, 4], 'B': ['one', 'two', 'three', 'four'], 'C': [False, True, False, True]})\n",
    "df"
   ]
  },
  {
   "cell_type": "markdown",
   "metadata": {},
   "source": [
    "##  <span class=\"section\">1.1.</span> Getting data from a `DataFrame`"
   ]
  },
  {
   "cell_type": "markdown",
   "metadata": {},
   "source": [
    "You can **get a column** from a data frame by indexing, just like a sequence.\n",
    "The result is a `Series` object.\n",
    "This is useful to extract a particular feature from the data set."
   ]
  },
  {
   "cell_type": "code",
   "execution_count": 58,
   "metadata": {},
   "outputs": [
    {
     "data": {
      "text/plain": [
       "0      one\n",
       "1      two\n",
       "2    three\n",
       "3     four\n",
       "Name: B, dtype: object"
      ]
     },
     "execution_count": 58,
     "metadata": {},
     "output_type": "execute_result"
    }
   ],
   "source": [
    "df['B']"
   ]
  },
  {
   "cell_type": "markdown",
   "metadata": {},
   "source": [
    "To **get a row** from a data frame,\n",
    "you use the `DataFrame` attribute `loc`.\n",
    "It is called an _indexer attribute_,\n",
    "because it supports indexing\n",
    "with _square brackets_, just like indexing of lists.\n",
    "The result is also a `Series` object:"
   ]
  },
  {
   "cell_type": "code",
   "execution_count": 59,
   "metadata": {},
   "outputs": [
    {
     "data": {
      "text/plain": [
       "A        3\n",
       "B    three\n",
       "C    False\n",
       "Name: 2, dtype: object"
      ]
     },
     "execution_count": 59,
     "metadata": {},
     "output_type": "execute_result"
    }
   ],
   "source": [
    "df.loc[2]"
   ]
  },
  {
   "cell_type": "markdown",
   "metadata": {},
   "source": [
    "You can **get a value** at a given location in a data frame\n",
    "in several ways:\n",
    "\n",
    "* **`df[column_label][row_index]`** : first get the column,\n",
    "    then get the value from the resulting `Series` object\n",
    "* **`df.loc[row_index, column_label]`** : get the value directly,\n",
    "    using `loc` with the row index and column label"
   ]
  },
  {
   "cell_type": "code",
   "execution_count": 60,
   "metadata": {},
   "outputs": [
    {
     "data": {
      "text/plain": [
       "'three'"
      ]
     },
     "execution_count": 60,
     "metadata": {},
     "output_type": "execute_result"
    }
   ],
   "source": [
    "df['B'][2]"
   ]
  },
  {
   "cell_type": "code",
   "execution_count": 61,
   "metadata": {},
   "outputs": [
    {
     "data": {
      "text/plain": [
       "'three'"
      ]
     },
     "execution_count": 61,
     "metadata": {},
     "output_type": "execute_result"
    }
   ],
   "source": [
    "df.loc[2, 'B']"
   ]
  },
  {
   "cell_type": "markdown",
   "metadata": {},
   "source": [
    "_Slicing_ can be used to **get larger parts from a data frame**,\n",
    "with a syntax similar to the slicing of lists.\n",
    "\n",
    "> NOTE: When slicing `DataFrame` and `Series` objects\n",
    "> with the syntax `.loc[start:stop]`,\n",
    "> the **`stop` value is included**.  \n",
    "> This contrasts to _list_ slicing, where `stop` is _not_ included.\n",
    "\n",
    "To select a slice of rows,\n",
    "use `.loc[start:stop]`.\n",
    "The result is a (new!) data frame:"
   ]
  },
  {
   "cell_type": "code",
   "execution_count": 62,
   "metadata": {},
   "outputs": [
    {
     "data": {
      "text/html": [
       "<div>\n",
       "<style scoped>\n",
       "    .dataframe tbody tr th:only-of-type {\n",
       "        vertical-align: middle;\n",
       "    }\n",
       "\n",
       "    .dataframe tbody tr th {\n",
       "        vertical-align: top;\n",
       "    }\n",
       "\n",
       "    .dataframe thead th {\n",
       "        text-align: right;\n",
       "    }\n",
       "</style>\n",
       "<table border=\"1\" class=\"dataframe\">\n",
       "  <thead>\n",
       "    <tr style=\"text-align: right;\">\n",
       "      <th></th>\n",
       "      <th>A</th>\n",
       "      <th>B</th>\n",
       "      <th>C</th>\n",
       "    </tr>\n",
       "  </thead>\n",
       "  <tbody>\n",
       "    <tr>\n",
       "      <th>1</th>\n",
       "      <td>2</td>\n",
       "      <td>two</td>\n",
       "      <td>True</td>\n",
       "    </tr>\n",
       "    <tr>\n",
       "      <th>2</th>\n",
       "      <td>3</td>\n",
       "      <td>three</td>\n",
       "      <td>False</td>\n",
       "    </tr>\n",
       "  </tbody>\n",
       "</table>\n",
       "</div>"
      ],
      "text/plain": [
       "   A      B      C\n",
       "1  2    two   True\n",
       "2  3  three  False"
      ]
     },
     "execution_count": 62,
     "metadata": {},
     "output_type": "execute_result"
    }
   ],
   "source": [
    "df.loc[1:2]"
   ]
  },
  {
   "cell_type": "markdown",
   "metadata": {},
   "source": [
    "When `start` or `stop` is omitted in the slice `start:stop`,\n",
    "the first or last item is implied. Therefore, `.loc[:]` extracts all rows:"
   ]
  },
  {
   "cell_type": "code",
   "execution_count": 63,
   "metadata": {},
   "outputs": [
    {
     "data": {
      "text/html": [
       "<div>\n",
       "<style scoped>\n",
       "    .dataframe tbody tr th:only-of-type {\n",
       "        vertical-align: middle;\n",
       "    }\n",
       "\n",
       "    .dataframe tbody tr th {\n",
       "        vertical-align: top;\n",
       "    }\n",
       "\n",
       "    .dataframe thead th {\n",
       "        text-align: right;\n",
       "    }\n",
       "</style>\n",
       "<table border=\"1\" class=\"dataframe\">\n",
       "  <thead>\n",
       "    <tr style=\"text-align: right;\">\n",
       "      <th></th>\n",
       "      <th>A</th>\n",
       "      <th>B</th>\n",
       "      <th>C</th>\n",
       "    </tr>\n",
       "  </thead>\n",
       "  <tbody>\n",
       "    <tr>\n",
       "      <th>0</th>\n",
       "      <td>1</td>\n",
       "      <td>one</td>\n",
       "      <td>False</td>\n",
       "    </tr>\n",
       "    <tr>\n",
       "      <th>1</th>\n",
       "      <td>2</td>\n",
       "      <td>two</td>\n",
       "      <td>True</td>\n",
       "    </tr>\n",
       "    <tr>\n",
       "      <th>2</th>\n",
       "      <td>3</td>\n",
       "      <td>three</td>\n",
       "      <td>False</td>\n",
       "    </tr>\n",
       "    <tr>\n",
       "      <th>3</th>\n",
       "      <td>4</td>\n",
       "      <td>four</td>\n",
       "      <td>True</td>\n",
       "    </tr>\n",
       "  </tbody>\n",
       "</table>\n",
       "</div>"
      ],
      "text/plain": [
       "   A      B      C\n",
       "0  1    one  False\n",
       "1  2    two   True\n",
       "2  3  three  False\n",
       "3  4   four   True"
      ]
     },
     "execution_count": 63,
     "metadata": {},
     "output_type": "execute_result"
    }
   ],
   "source": [
    "df.loc[:]"
   ]
  },
  {
   "cell_type": "markdown",
   "metadata": {},
   "source": [
    "The `DataFrame` function call **`df.head(n)`** returns the first `n` rows of the data frame `df`,\n",
    "regardless of how the rows are indexed.\n",
    "The default value for `n` is 5 (i.e. omitting the value in `df.head()` is equivalent to `df.head(5)`)."
   ]
  },
  {
   "cell_type": "code",
   "execution_count": 64,
   "metadata": {},
   "outputs": [
    {
     "data": {
      "text/html": [
       "<div>\n",
       "<style scoped>\n",
       "    .dataframe tbody tr th:only-of-type {\n",
       "        vertical-align: middle;\n",
       "    }\n",
       "\n",
       "    .dataframe tbody tr th {\n",
       "        vertical-align: top;\n",
       "    }\n",
       "\n",
       "    .dataframe thead th {\n",
       "        text-align: right;\n",
       "    }\n",
       "</style>\n",
       "<table border=\"1\" class=\"dataframe\">\n",
       "  <thead>\n",
       "    <tr style=\"text-align: right;\">\n",
       "      <th></th>\n",
       "      <th>A</th>\n",
       "      <th>B</th>\n",
       "      <th>C</th>\n",
       "    </tr>\n",
       "  </thead>\n",
       "  <tbody>\n",
       "    <tr>\n",
       "      <th>0</th>\n",
       "      <td>1</td>\n",
       "      <td>one</td>\n",
       "      <td>False</td>\n",
       "    </tr>\n",
       "    <tr>\n",
       "      <th>1</th>\n",
       "      <td>2</td>\n",
       "      <td>two</td>\n",
       "      <td>True</td>\n",
       "    </tr>\n",
       "  </tbody>\n",
       "</table>\n",
       "</div>"
      ],
      "text/plain": [
       "   A    B      C\n",
       "0  1  one  False\n",
       "1  2  two   True"
      ]
     },
     "execution_count": 64,
     "metadata": {},
     "output_type": "execute_result"
    }
   ],
   "source": [
    "df.head(2)"
   ]
  },
  {
   "cell_type": "markdown",
   "metadata": {},
   "source": [
    "You can also apply slicing to the columns:"
   ]
  },
  {
   "cell_type": "code",
   "execution_count": 65,
   "metadata": {},
   "outputs": [
    {
     "data": {
      "text/html": [
       "<div>\n",
       "<style scoped>\n",
       "    .dataframe tbody tr th:only-of-type {\n",
       "        vertical-align: middle;\n",
       "    }\n",
       "\n",
       "    .dataframe tbody tr th {\n",
       "        vertical-align: top;\n",
       "    }\n",
       "\n",
       "    .dataframe thead th {\n",
       "        text-align: right;\n",
       "    }\n",
       "</style>\n",
       "<table border=\"1\" class=\"dataframe\">\n",
       "  <thead>\n",
       "    <tr style=\"text-align: right;\">\n",
       "      <th></th>\n",
       "      <th>A</th>\n",
       "      <th>B</th>\n",
       "    </tr>\n",
       "  </thead>\n",
       "  <tbody>\n",
       "    <tr>\n",
       "      <th>0</th>\n",
       "      <td>1</td>\n",
       "      <td>one</td>\n",
       "    </tr>\n",
       "    <tr>\n",
       "      <th>1</th>\n",
       "      <td>2</td>\n",
       "      <td>two</td>\n",
       "    </tr>\n",
       "    <tr>\n",
       "      <th>2</th>\n",
       "      <td>3</td>\n",
       "      <td>three</td>\n",
       "    </tr>\n",
       "    <tr>\n",
       "      <th>3</th>\n",
       "      <td>4</td>\n",
       "      <td>four</td>\n",
       "    </tr>\n",
       "  </tbody>\n",
       "</table>\n",
       "</div>"
      ],
      "text/plain": [
       "   A      B\n",
       "0  1    one\n",
       "1  2    two\n",
       "2  3  three\n",
       "3  4   four"
      ]
     },
     "execution_count": 65,
     "metadata": {},
     "output_type": "execute_result"
    }
   ],
   "source": [
    "df.loc[:, 'A':'B']"
   ]
  },
  {
   "cell_type": "markdown",
   "metadata": {},
   "source": [
    "Note that here the first `:` argument tells to select all the rows.\n",
    "\n",
    "Using `.loc` we can also extract a particular slice of rows and columns in one go:"
   ]
  },
  {
   "cell_type": "code",
   "execution_count": 66,
   "metadata": {},
   "outputs": [
    {
     "data": {
      "text/html": [
       "<div>\n",
       "<style scoped>\n",
       "    .dataframe tbody tr th:only-of-type {\n",
       "        vertical-align: middle;\n",
       "    }\n",
       "\n",
       "    .dataframe tbody tr th {\n",
       "        vertical-align: top;\n",
       "    }\n",
       "\n",
       "    .dataframe thead th {\n",
       "        text-align: right;\n",
       "    }\n",
       "</style>\n",
       "<table border=\"1\" class=\"dataframe\">\n",
       "  <thead>\n",
       "    <tr style=\"text-align: right;\">\n",
       "      <th></th>\n",
       "      <th>A</th>\n",
       "      <th>B</th>\n",
       "    </tr>\n",
       "  </thead>\n",
       "  <tbody>\n",
       "    <tr>\n",
       "      <th>1</th>\n",
       "      <td>2</td>\n",
       "      <td>two</td>\n",
       "    </tr>\n",
       "    <tr>\n",
       "      <th>2</th>\n",
       "      <td>3</td>\n",
       "      <td>three</td>\n",
       "    </tr>\n",
       "  </tbody>\n",
       "</table>\n",
       "</div>"
      ],
      "text/plain": [
       "   A      B\n",
       "1  2    two\n",
       "2  3  three"
      ]
     },
     "execution_count": 66,
     "metadata": {},
     "output_type": "execute_result"
    }
   ],
   "source": [
    "df.loc[1:2, 'A':'B']"
   ]
  },
  {
   "cell_type": "markdown",
   "metadata": {},
   "source": [
    "To **get _non-adjacent_ rows**,\n",
    "use `.loc` with a _list of row indices_\n",
    "(note the **double square brackets**).\n",
    "The result is a (new!) data frame:"
   ]
  },
  {
   "cell_type": "code",
   "execution_count": 67,
   "metadata": {},
   "outputs": [
    {
     "data": {
      "text/html": [
       "<div>\n",
       "<style scoped>\n",
       "    .dataframe tbody tr th:only-of-type {\n",
       "        vertical-align: middle;\n",
       "    }\n",
       "\n",
       "    .dataframe tbody tr th {\n",
       "        vertical-align: top;\n",
       "    }\n",
       "\n",
       "    .dataframe thead th {\n",
       "        text-align: right;\n",
       "    }\n",
       "</style>\n",
       "<table border=\"1\" class=\"dataframe\">\n",
       "  <thead>\n",
       "    <tr style=\"text-align: right;\">\n",
       "      <th></th>\n",
       "      <th>A</th>\n",
       "      <th>B</th>\n",
       "      <th>C</th>\n",
       "    </tr>\n",
       "  </thead>\n",
       "  <tbody>\n",
       "    <tr>\n",
       "      <th>1</th>\n",
       "      <td>2</td>\n",
       "      <td>two</td>\n",
       "      <td>True</td>\n",
       "    </tr>\n",
       "    <tr>\n",
       "      <th>3</th>\n",
       "      <td>4</td>\n",
       "      <td>four</td>\n",
       "      <td>True</td>\n",
       "    </tr>\n",
       "  </tbody>\n",
       "</table>\n",
       "</div>"
      ],
      "text/plain": [
       "   A     B     C\n",
       "1  2   two  True\n",
       "3  4  four  True"
      ]
     },
     "execution_count": 67,
     "metadata": {},
     "output_type": "execute_result"
    }
   ],
   "source": [
    "df.loc[[1, 3]]"
   ]
  },
  {
   "cell_type": "markdown",
   "metadata": {},
   "source": [
    "You can also **get _non-adjacent_ columns**.\n",
    "One way is by providing a _list of column labels_ directly to the data frame\n",
    "(note the **double square brackets**).\n",
    "The result is a (new!) data frame:"
   ]
  },
  {
   "cell_type": "code",
   "execution_count": 68,
   "metadata": {},
   "outputs": [
    {
     "data": {
      "text/html": [
       "<div>\n",
       "<style scoped>\n",
       "    .dataframe tbody tr th:only-of-type {\n",
       "        vertical-align: middle;\n",
       "    }\n",
       "\n",
       "    .dataframe tbody tr th {\n",
       "        vertical-align: top;\n",
       "    }\n",
       "\n",
       "    .dataframe thead th {\n",
       "        text-align: right;\n",
       "    }\n",
       "</style>\n",
       "<table border=\"1\" class=\"dataframe\">\n",
       "  <thead>\n",
       "    <tr style=\"text-align: right;\">\n",
       "      <th></th>\n",
       "      <th>A</th>\n",
       "      <th>C</th>\n",
       "    </tr>\n",
       "  </thead>\n",
       "  <tbody>\n",
       "    <tr>\n",
       "      <th>0</th>\n",
       "      <td>1</td>\n",
       "      <td>False</td>\n",
       "    </tr>\n",
       "    <tr>\n",
       "      <th>1</th>\n",
       "      <td>2</td>\n",
       "      <td>True</td>\n",
       "    </tr>\n",
       "    <tr>\n",
       "      <th>2</th>\n",
       "      <td>3</td>\n",
       "      <td>False</td>\n",
       "    </tr>\n",
       "    <tr>\n",
       "      <th>3</th>\n",
       "      <td>4</td>\n",
       "      <td>True</td>\n",
       "    </tr>\n",
       "  </tbody>\n",
       "</table>\n",
       "</div>"
      ],
      "text/plain": [
       "   A      C\n",
       "0  1  False\n",
       "1  2   True\n",
       "2  3  False\n",
       "3  4   True"
      ]
     },
     "execution_count": 68,
     "metadata": {},
     "output_type": "execute_result"
    }
   ],
   "source": [
    "df[['A', 'C']]"
   ]
  },
  {
   "cell_type": "markdown",
   "metadata": {},
   "source": [
    "An alternative way of getting non-adjacent columns,\n",
    "is to use `.loc` with a _full slice_ for the rows using just '`:`':"
   ]
  },
  {
   "cell_type": "code",
   "execution_count": 69,
   "metadata": {},
   "outputs": [
    {
     "data": {
      "text/html": [
       "<div>\n",
       "<style scoped>\n",
       "    .dataframe tbody tr th:only-of-type {\n",
       "        vertical-align: middle;\n",
       "    }\n",
       "\n",
       "    .dataframe tbody tr th {\n",
       "        vertical-align: top;\n",
       "    }\n",
       "\n",
       "    .dataframe thead th {\n",
       "        text-align: right;\n",
       "    }\n",
       "</style>\n",
       "<table border=\"1\" class=\"dataframe\">\n",
       "  <thead>\n",
       "    <tr style=\"text-align: right;\">\n",
       "      <th></th>\n",
       "      <th>A</th>\n",
       "      <th>C</th>\n",
       "    </tr>\n",
       "  </thead>\n",
       "  <tbody>\n",
       "    <tr>\n",
       "      <th>0</th>\n",
       "      <td>1</td>\n",
       "      <td>False</td>\n",
       "    </tr>\n",
       "    <tr>\n",
       "      <th>1</th>\n",
       "      <td>2</td>\n",
       "      <td>True</td>\n",
       "    </tr>\n",
       "    <tr>\n",
       "      <th>2</th>\n",
       "      <td>3</td>\n",
       "      <td>False</td>\n",
       "    </tr>\n",
       "    <tr>\n",
       "      <th>3</th>\n",
       "      <td>4</td>\n",
       "      <td>True</td>\n",
       "    </tr>\n",
       "  </tbody>\n",
       "</table>\n",
       "</div>"
      ],
      "text/plain": [
       "   A      C\n",
       "0  1  False\n",
       "1  2   True\n",
       "2  3  False\n",
       "3  4   True"
      ]
     },
     "execution_count": 69,
     "metadata": {},
     "output_type": "execute_result"
    }
   ],
   "source": [
    "df.loc[:, ['A', 'C']]"
   ]
  },
  {
   "cell_type": "markdown",
   "metadata": {},
   "source": [
    "Note that `df['B']` returns column '`B`' as a `Series` object.\n",
    "Sometimes it is more convenient to get it as a `DataFrame` with one column.\n",
    "This is achieved by using a list with only one element `'B'` as column label\n",
    "(note the **double square brackets**):"
   ]
  },
  {
   "cell_type": "code",
   "execution_count": 70,
   "metadata": {},
   "outputs": [
    {
     "data": {
      "text/html": [
       "<div>\n",
       "<style scoped>\n",
       "    .dataframe tbody tr th:only-of-type {\n",
       "        vertical-align: middle;\n",
       "    }\n",
       "\n",
       "    .dataframe tbody tr th {\n",
       "        vertical-align: top;\n",
       "    }\n",
       "\n",
       "    .dataframe thead th {\n",
       "        text-align: right;\n",
       "    }\n",
       "</style>\n",
       "<table border=\"1\" class=\"dataframe\">\n",
       "  <thead>\n",
       "    <tr style=\"text-align: right;\">\n",
       "      <th></th>\n",
       "      <th>B</th>\n",
       "    </tr>\n",
       "  </thead>\n",
       "  <tbody>\n",
       "    <tr>\n",
       "      <th>0</th>\n",
       "      <td>one</td>\n",
       "    </tr>\n",
       "    <tr>\n",
       "      <th>1</th>\n",
       "      <td>two</td>\n",
       "    </tr>\n",
       "    <tr>\n",
       "      <th>2</th>\n",
       "      <td>three</td>\n",
       "    </tr>\n",
       "    <tr>\n",
       "      <th>3</th>\n",
       "      <td>four</td>\n",
       "    </tr>\n",
       "  </tbody>\n",
       "</table>\n",
       "</div>"
      ],
      "text/plain": [
       "       B\n",
       "0    one\n",
       "1    two\n",
       "2  three\n",
       "3   four"
      ]
     },
     "execution_count": 70,
     "metadata": {},
     "output_type": "execute_result"
    }
   ],
   "source": [
    "df[['B']]"
   ]
  },
  {
   "cell_type": "markdown",
   "metadata": {},
   "source": [
    "## <span class=\"section\">1.1</span> Sorting a `DataFrame`\n",
    "\n",
    "To sort a data frame `df` by the values in column `'c'` use **`df.sort_values(by='c')`**.\n",
    "Note that this does not modify the data frame,\n",
    "but rather returns a new data frame.  \n",
    "A series is sorted by the same function,\n",
    "but it does not need the `by` argument.\n",
    "\n",
    "Here is the country data sorted by _area_:"
   ]
  },
  {
   "cell_type": "code",
   "execution_count": 104,
   "metadata": {},
   "outputs": [
    {
     "data": {
      "text/html": [
       "<div>\n",
       "<style scoped>\n",
       "    .dataframe tbody tr th:only-of-type {\n",
       "        vertical-align: middle;\n",
       "    }\n",
       "\n",
       "    .dataframe tbody tr th {\n",
       "        vertical-align: top;\n",
       "    }\n",
       "\n",
       "    .dataframe thead th {\n",
       "        text-align: right;\n",
       "    }\n",
       "</style>\n",
       "<table border=\"1\" class=\"dataframe\">\n",
       "  <thead>\n",
       "    <tr style=\"text-align: right;\">\n",
       "      <th></th>\n",
       "      <th>name</th>\n",
       "      <th>alpha_3</th>\n",
       "      <th>tld</th>\n",
       "      <th>continent</th>\n",
       "      <th>capital</th>\n",
       "      <th>area</th>\n",
       "      <th>population</th>\n",
       "    </tr>\n",
       "  </thead>\n",
       "  <tbody>\n",
       "    <tr>\n",
       "      <th>0</th>\n",
       "      <td>Andorra</td>\n",
       "      <td>AND</td>\n",
       "      <td>.ad</td>\n",
       "      <td>EU</td>\n",
       "      <td>Andorra la Vella</td>\n",
       "      <td>468.0</td>\n",
       "      <td>84000</td>\n",
       "    </tr>\n",
       "    <tr>\n",
       "      <th>1</th>\n",
       "      <td>United Arab Emirates</td>\n",
       "      <td>ARE</td>\n",
       "      <td>.ae</td>\n",
       "      <td>AS</td>\n",
       "      <td>Abu Dhabi</td>\n",
       "      <td>82880.0</td>\n",
       "      <td>4975593</td>\n",
       "    </tr>\n",
       "    <tr>\n",
       "      <th>2</th>\n",
       "      <td>Afghanistan</td>\n",
       "      <td>AFG</td>\n",
       "      <td>.af</td>\n",
       "      <td>AS</td>\n",
       "      <td>Kabul</td>\n",
       "      <td>647500.0</td>\n",
       "      <td>29121286</td>\n",
       "    </tr>\n",
       "    <tr>\n",
       "      <th>3</th>\n",
       "      <td>Antigua and Barbuda</td>\n",
       "      <td>ATG</td>\n",
       "      <td>.ag</td>\n",
       "      <td>NM</td>\n",
       "      <td>St. John's</td>\n",
       "      <td>443.0</td>\n",
       "      <td>86754</td>\n",
       "    </tr>\n",
       "    <tr>\n",
       "      <th>4</th>\n",
       "      <td>Anguilla</td>\n",
       "      <td>AIA</td>\n",
       "      <td>.ai</td>\n",
       "      <td>NM</td>\n",
       "      <td>The Valley</td>\n",
       "      <td>102.0</td>\n",
       "      <td>13254</td>\n",
       "    </tr>\n",
       "  </tbody>\n",
       "</table>\n",
       "</div>"
      ],
      "text/plain": [
       "                   name alpha_3  tld continent           capital      area  \\\n",
       "0               Andorra     AND  .ad        EU  Andorra la Vella     468.0   \n",
       "1  United Arab Emirates     ARE  .ae        AS         Abu Dhabi   82880.0   \n",
       "2           Afghanistan     AFG  .af        AS             Kabul  647500.0   \n",
       "3   Antigua and Barbuda     ATG  .ag        NM        St. John's     443.0   \n",
       "4              Anguilla     AIA  .ai        NM        The Valley     102.0   \n",
       "\n",
       "   population  \n",
       "0       84000  \n",
       "1     4975593  \n",
       "2    29121286  \n",
       "3       86754  \n",
       "4       13254  "
      ]
     },
     "execution_count": 104,
     "metadata": {},
     "output_type": "execute_result"
    }
   ],
   "source": [
    "file_countries = './data/country.csv'\n",
    "country_data = pd.read_csv(file_countries)\n",
    "country_data.head()"
   ]
  },
  {
   "cell_type": "code",
   "execution_count": 96,
   "metadata": {},
   "outputs": [
    {
     "data": {
      "text/html": [
       "<div>\n",
       "<style scoped>\n",
       "    .dataframe tbody tr th:only-of-type {\n",
       "        vertical-align: middle;\n",
       "    }\n",
       "\n",
       "    .dataframe tbody tr th {\n",
       "        vertical-align: top;\n",
       "    }\n",
       "\n",
       "    .dataframe thead th {\n",
       "        text-align: right;\n",
       "    }\n",
       "</style>\n",
       "<table border=\"1\" class=\"dataframe\">\n",
       "  <thead>\n",
       "    <tr style=\"text-align: right;\">\n",
       "      <th></th>\n",
       "      <th>name</th>\n",
       "      <th>alpha_3</th>\n",
       "      <th>tld</th>\n",
       "      <th>continent</th>\n",
       "      <th>capital</th>\n",
       "      <th>area</th>\n",
       "      <th>population</th>\n",
       "    </tr>\n",
       "  </thead>\n",
       "  <tbody>\n",
       "    <tr>\n",
       "      <th>232</th>\n",
       "      <td>United States Minor Outlying Islands</td>\n",
       "      <td>UMI</td>\n",
       "      <td>.um</td>\n",
       "      <td>OC</td>\n",
       "      <td>NaN</td>\n",
       "      <td>0.00</td>\n",
       "      <td>0</td>\n",
       "    </tr>\n",
       "    <tr>\n",
       "      <th>236</th>\n",
       "      <td>Vatican</td>\n",
       "      <td>VAT</td>\n",
       "      <td>.va</td>\n",
       "      <td>EU</td>\n",
       "      <td>Vatican City</td>\n",
       "      <td>0.44</td>\n",
       "      <td>921</td>\n",
       "    </tr>\n",
       "    <tr>\n",
       "      <th>138</th>\n",
       "      <td>Monaco</td>\n",
       "      <td>MCO</td>\n",
       "      <td>.mc</td>\n",
       "      <td>EU</td>\n",
       "      <td>Monaco</td>\n",
       "      <td>1.95</td>\n",
       "      <td>32965</td>\n",
       "    </tr>\n",
       "    <tr>\n",
       "      <th>82</th>\n",
       "      <td>Gibraltar</td>\n",
       "      <td>GIB</td>\n",
       "      <td>.gi</td>\n",
       "      <td>EU</td>\n",
       "      <td>Gibraltar</td>\n",
       "      <td>6.50</td>\n",
       "      <td>27884</td>\n",
       "    </tr>\n",
       "    <tr>\n",
       "      <th>220</th>\n",
       "      <td>Tokelau</td>\n",
       "      <td>TKL</td>\n",
       "      <td>.tk</td>\n",
       "      <td>OC</td>\n",
       "      <td>NaN</td>\n",
       "      <td>10.00</td>\n",
       "      <td>1466</td>\n",
       "    </tr>\n",
       "    <tr>\n",
       "      <th>...</th>\n",
       "      <td>...</td>\n",
       "      <td>...</td>\n",
       "      <td>...</td>\n",
       "      <td>...</td>\n",
       "      <td>...</td>\n",
       "      <td>...</td>\n",
       "      <td>...</td>\n",
       "    </tr>\n",
       "    <tr>\n",
       "      <th>47</th>\n",
       "      <td>China</td>\n",
       "      <td>CHN</td>\n",
       "      <td>.cn</td>\n",
       "      <td>AS</td>\n",
       "      <td>Beijing</td>\n",
       "      <td>9596960.00</td>\n",
       "      <td>1330044000</td>\n",
       "    </tr>\n",
       "    <tr>\n",
       "      <th>233</th>\n",
       "      <td>United States</td>\n",
       "      <td>USA</td>\n",
       "      <td>.us</td>\n",
       "      <td>NM</td>\n",
       "      <td>Washington</td>\n",
       "      <td>9629091.00</td>\n",
       "      <td>310232863</td>\n",
       "    </tr>\n",
       "    <tr>\n",
       "      <th>37</th>\n",
       "      <td>Canada</td>\n",
       "      <td>CAN</td>\n",
       "      <td>.ca</td>\n",
       "      <td>NM</td>\n",
       "      <td>Ottawa</td>\n",
       "      <td>9984670.00</td>\n",
       "      <td>33679000</td>\n",
       "    </tr>\n",
       "    <tr>\n",
       "      <th>8</th>\n",
       "      <td>Antarctica</td>\n",
       "      <td>ATA</td>\n",
       "      <td>.aq</td>\n",
       "      <td>AN</td>\n",
       "      <td>NaN</td>\n",
       "      <td>14000000.00</td>\n",
       "      <td>0</td>\n",
       "    </tr>\n",
       "    <tr>\n",
       "      <th>191</th>\n",
       "      <td>Russia</td>\n",
       "      <td>RUS</td>\n",
       "      <td>.ru</td>\n",
       "      <td>EU</td>\n",
       "      <td>Moscow</td>\n",
       "      <td>17100000.00</td>\n",
       "      <td>140702000</td>\n",
       "    </tr>\n",
       "  </tbody>\n",
       "</table>\n",
       "<p>251 rows × 7 columns</p>\n",
       "</div>"
      ],
      "text/plain": [
       "                                     name alpha_3  tld continent  \\\n",
       "232  United States Minor Outlying Islands     UMI  .um        OC   \n",
       "236                               Vatican     VAT  .va        EU   \n",
       "138                                Monaco     MCO  .mc        EU   \n",
       "82                              Gibraltar     GIB  .gi        EU   \n",
       "220                               Tokelau     TKL  .tk        OC   \n",
       "..                                    ...     ...  ...       ...   \n",
       "47                                  China     CHN  .cn        AS   \n",
       "233                         United States     USA  .us        NM   \n",
       "37                                 Canada     CAN  .ca        NM   \n",
       "8                              Antarctica     ATA  .aq        AN   \n",
       "191                                Russia     RUS  .ru        EU   \n",
       "\n",
       "          capital         area  population  \n",
       "232           NaN         0.00           0  \n",
       "236  Vatican City         0.44         921  \n",
       "138        Monaco         1.95       32965  \n",
       "82      Gibraltar         6.50       27884  \n",
       "220           NaN        10.00        1466  \n",
       "..            ...          ...         ...  \n",
       "47        Beijing   9596960.00  1330044000  \n",
       "233    Washington   9629091.00   310232863  \n",
       "37         Ottawa   9984670.00    33679000  \n",
       "8             NaN  14000000.00           0  \n",
       "191        Moscow  17100000.00   140702000  \n",
       "\n",
       "[251 rows x 7 columns]"
      ]
     },
     "execution_count": 96,
     "metadata": {},
     "output_type": "execute_result"
    }
   ],
   "source": [
    "country_data.sort_values(by='area')"
   ]
  },
  {
   "cell_type": "markdown",
   "metadata": {},
   "source": [
    "To sort in **descending order**, supply the argument **`ascending=False`**:"
   ]
  },
  {
   "cell_type": "code",
   "execution_count": 97,
   "metadata": {},
   "outputs": [
    {
     "data": {
      "text/html": [
       "<div>\n",
       "<style scoped>\n",
       "    .dataframe tbody tr th:only-of-type {\n",
       "        vertical-align: middle;\n",
       "    }\n",
       "\n",
       "    .dataframe tbody tr th {\n",
       "        vertical-align: top;\n",
       "    }\n",
       "\n",
       "    .dataframe thead th {\n",
       "        text-align: right;\n",
       "    }\n",
       "</style>\n",
       "<table border=\"1\" class=\"dataframe\">\n",
       "  <thead>\n",
       "    <tr style=\"text-align: right;\">\n",
       "      <th></th>\n",
       "      <th>name</th>\n",
       "      <th>alpha_3</th>\n",
       "      <th>tld</th>\n",
       "      <th>continent</th>\n",
       "      <th>capital</th>\n",
       "      <th>area</th>\n",
       "      <th>population</th>\n",
       "    </tr>\n",
       "  </thead>\n",
       "  <tbody>\n",
       "    <tr>\n",
       "      <th>191</th>\n",
       "      <td>Russia</td>\n",
       "      <td>RUS</td>\n",
       "      <td>.ru</td>\n",
       "      <td>EU</td>\n",
       "      <td>Moscow</td>\n",
       "      <td>17100000.00</td>\n",
       "      <td>140702000</td>\n",
       "    </tr>\n",
       "    <tr>\n",
       "      <th>8</th>\n",
       "      <td>Antarctica</td>\n",
       "      <td>ATA</td>\n",
       "      <td>.aq</td>\n",
       "      <td>AN</td>\n",
       "      <td>NaN</td>\n",
       "      <td>14000000.00</td>\n",
       "      <td>0</td>\n",
       "    </tr>\n",
       "    <tr>\n",
       "      <th>37</th>\n",
       "      <td>Canada</td>\n",
       "      <td>CAN</td>\n",
       "      <td>.ca</td>\n",
       "      <td>NM</td>\n",
       "      <td>Ottawa</td>\n",
       "      <td>9984670.00</td>\n",
       "      <td>33679000</td>\n",
       "    </tr>\n",
       "    <tr>\n",
       "      <th>233</th>\n",
       "      <td>United States</td>\n",
       "      <td>USA</td>\n",
       "      <td>.us</td>\n",
       "      <td>NM</td>\n",
       "      <td>Washington</td>\n",
       "      <td>9629091.00</td>\n",
       "      <td>310232863</td>\n",
       "    </tr>\n",
       "    <tr>\n",
       "      <th>47</th>\n",
       "      <td>China</td>\n",
       "      <td>CHN</td>\n",
       "      <td>.cn</td>\n",
       "      <td>AS</td>\n",
       "      <td>Beijing</td>\n",
       "      <td>9596960.00</td>\n",
       "      <td>1330044000</td>\n",
       "    </tr>\n",
       "    <tr>\n",
       "      <th>...</th>\n",
       "      <td>...</td>\n",
       "      <td>...</td>\n",
       "      <td>...</td>\n",
       "      <td>...</td>\n",
       "      <td>...</td>\n",
       "      <td>...</td>\n",
       "      <td>...</td>\n",
       "    </tr>\n",
       "    <tr>\n",
       "      <th>220</th>\n",
       "      <td>Tokelau</td>\n",
       "      <td>TKL</td>\n",
       "      <td>.tk</td>\n",
       "      <td>OC</td>\n",
       "      <td>NaN</td>\n",
       "      <td>10.00</td>\n",
       "      <td>1466</td>\n",
       "    </tr>\n",
       "    <tr>\n",
       "      <th>82</th>\n",
       "      <td>Gibraltar</td>\n",
       "      <td>GIB</td>\n",
       "      <td>.gi</td>\n",
       "      <td>EU</td>\n",
       "      <td>Gibraltar</td>\n",
       "      <td>6.50</td>\n",
       "      <td>27884</td>\n",
       "    </tr>\n",
       "    <tr>\n",
       "      <th>138</th>\n",
       "      <td>Monaco</td>\n",
       "      <td>MCO</td>\n",
       "      <td>.mc</td>\n",
       "      <td>EU</td>\n",
       "      <td>Monaco</td>\n",
       "      <td>1.95</td>\n",
       "      <td>32965</td>\n",
       "    </tr>\n",
       "    <tr>\n",
       "      <th>236</th>\n",
       "      <td>Vatican</td>\n",
       "      <td>VAT</td>\n",
       "      <td>.va</td>\n",
       "      <td>EU</td>\n",
       "      <td>Vatican City</td>\n",
       "      <td>0.44</td>\n",
       "      <td>921</td>\n",
       "    </tr>\n",
       "    <tr>\n",
       "      <th>232</th>\n",
       "      <td>United States Minor Outlying Islands</td>\n",
       "      <td>UMI</td>\n",
       "      <td>.um</td>\n",
       "      <td>OC</td>\n",
       "      <td>NaN</td>\n",
       "      <td>0.00</td>\n",
       "      <td>0</td>\n",
       "    </tr>\n",
       "  </tbody>\n",
       "</table>\n",
       "<p>251 rows × 7 columns</p>\n",
       "</div>"
      ],
      "text/plain": [
       "                                     name alpha_3  tld continent  \\\n",
       "191                                Russia     RUS  .ru        EU   \n",
       "8                              Antarctica     ATA  .aq        AN   \n",
       "37                                 Canada     CAN  .ca        NM   \n",
       "233                         United States     USA  .us        NM   \n",
       "47                                  China     CHN  .cn        AS   \n",
       "..                                    ...     ...  ...       ...   \n",
       "220                               Tokelau     TKL  .tk        OC   \n",
       "82                              Gibraltar     GIB  .gi        EU   \n",
       "138                                Monaco     MCO  .mc        EU   \n",
       "236                               Vatican     VAT  .va        EU   \n",
       "232  United States Minor Outlying Islands     UMI  .um        OC   \n",
       "\n",
       "          capital         area  population  \n",
       "191        Moscow  17100000.00   140702000  \n",
       "8             NaN  14000000.00           0  \n",
       "37         Ottawa   9984670.00    33679000  \n",
       "233    Washington   9629091.00   310232863  \n",
       "47        Beijing   9596960.00  1330044000  \n",
       "..            ...          ...         ...  \n",
       "220           NaN        10.00        1466  \n",
       "82      Gibraltar         6.50       27884  \n",
       "138        Monaco         1.95       32965  \n",
       "236  Vatican City         0.44         921  \n",
       "232           NaN         0.00           0  \n",
       "\n",
       "[251 rows x 7 columns]"
      ]
     },
     "execution_count": 97,
     "metadata": {},
     "output_type": "execute_result"
    }
   ],
   "source": [
    "country_data.sort_values(by='area', ascending=False)"
   ]
  },
  {
   "cell_type": "markdown",
   "metadata": {},
   "source": [
    "> A data frame can be **sorted in place**,\n",
    "> that is, the data frame is modified,\n",
    "> rather than returning a new data frame.\n",
    "> This is achieved by supplying the argument **`inplace=True`**,\n",
    "> but is not recommended (rather, assign the result to a new variable)."
   ]
  },
  {
   "cell_type": "markdown",
   "metadata": {},
   "source": [
    "To **sort on multiple columns**, provide a _list of column labels_:"
   ]
  },
  {
   "cell_type": "code",
   "execution_count": 98,
   "metadata": {},
   "outputs": [
    {
     "data": {
      "text/html": [
       "<div>\n",
       "<style scoped>\n",
       "    .dataframe tbody tr th:only-of-type {\n",
       "        vertical-align: middle;\n",
       "    }\n",
       "\n",
       "    .dataframe tbody tr th {\n",
       "        vertical-align: top;\n",
       "    }\n",
       "\n",
       "    .dataframe thead th {\n",
       "        text-align: right;\n",
       "    }\n",
       "</style>\n",
       "<table border=\"1\" class=\"dataframe\">\n",
       "  <thead>\n",
       "    <tr style=\"text-align: right;\">\n",
       "      <th></th>\n",
       "      <th>name</th>\n",
       "      <th>alpha_3</th>\n",
       "      <th>tld</th>\n",
       "      <th>continent</th>\n",
       "      <th>capital</th>\n",
       "      <th>area</th>\n",
       "      <th>population</th>\n",
       "    </tr>\n",
       "  </thead>\n",
       "  <tbody>\n",
       "    <tr>\n",
       "      <th>61</th>\n",
       "      <td>Algeria</td>\n",
       "      <td>DZA</td>\n",
       "      <td>.dz</td>\n",
       "      <td>AF</td>\n",
       "      <td>Algiers</td>\n",
       "      <td>2381740.0</td>\n",
       "      <td>34586184</td>\n",
       "    </tr>\n",
       "    <tr>\n",
       "      <th>7</th>\n",
       "      <td>Angola</td>\n",
       "      <td>AGO</td>\n",
       "      <td>.ao</td>\n",
       "      <td>AF</td>\n",
       "      <td>Luanda</td>\n",
       "      <td>1246700.0</td>\n",
       "      <td>13068161</td>\n",
       "    </tr>\n",
       "    <tr>\n",
       "      <th>24</th>\n",
       "      <td>Benin</td>\n",
       "      <td>BEN</td>\n",
       "      <td>.bj</td>\n",
       "      <td>AF</td>\n",
       "      <td>Porto-Novo</td>\n",
       "      <td>112620.0</td>\n",
       "      <td>9056010</td>\n",
       "    </tr>\n",
       "    <tr>\n",
       "      <th>34</th>\n",
       "      <td>Botswana</td>\n",
       "      <td>BWA</td>\n",
       "      <td>.bw</td>\n",
       "      <td>AF</td>\n",
       "      <td>Gaborone</td>\n",
       "      <td>600370.0</td>\n",
       "      <td>2029307</td>\n",
       "    </tr>\n",
       "    <tr>\n",
       "      <th>20</th>\n",
       "      <td>Burkina Faso</td>\n",
       "      <td>BFA</td>\n",
       "      <td>.bf</td>\n",
       "      <td>AF</td>\n",
       "      <td>Ouagadougou</td>\n",
       "      <td>274200.0</td>\n",
       "      <td>16241811</td>\n",
       "    </tr>\n",
       "    <tr>\n",
       "      <th>...</th>\n",
       "      <td>...</td>\n",
       "      <td>...</td>\n",
       "      <td>...</td>\n",
       "      <td>...</td>\n",
       "      <td>...</td>\n",
       "      <td>...</td>\n",
       "      <td>...</td>\n",
       "    </tr>\n",
       "    <tr>\n",
       "      <th>186</th>\n",
       "      <td>Paraguay</td>\n",
       "      <td>PRY</td>\n",
       "      <td>.py</td>\n",
       "      <td>SM</td>\n",
       "      <td>Asuncion</td>\n",
       "      <td>406750.0</td>\n",
       "      <td>6375830</td>\n",
       "    </tr>\n",
       "    <tr>\n",
       "      <th>174</th>\n",
       "      <td>Peru</td>\n",
       "      <td>PER</td>\n",
       "      <td>.pe</td>\n",
       "      <td>SM</td>\n",
       "      <td>Lima</td>\n",
       "      <td>1285220.0</td>\n",
       "      <td>29907003</td>\n",
       "    </tr>\n",
       "    <tr>\n",
       "      <th>208</th>\n",
       "      <td>Suriname</td>\n",
       "      <td>SUR</td>\n",
       "      <td>.sr</td>\n",
       "      <td>SM</td>\n",
       "      <td>Paramaribo</td>\n",
       "      <td>163270.0</td>\n",
       "      <td>492829</td>\n",
       "    </tr>\n",
       "    <tr>\n",
       "      <th>234</th>\n",
       "      <td>Uruguay</td>\n",
       "      <td>URY</td>\n",
       "      <td>.uy</td>\n",
       "      <td>SM</td>\n",
       "      <td>Montevideo</td>\n",
       "      <td>176220.0</td>\n",
       "      <td>3477000</td>\n",
       "    </tr>\n",
       "    <tr>\n",
       "      <th>238</th>\n",
       "      <td>Venezuela</td>\n",
       "      <td>VEN</td>\n",
       "      <td>.ve</td>\n",
       "      <td>SM</td>\n",
       "      <td>Caracas</td>\n",
       "      <td>912050.0</td>\n",
       "      <td>27223228</td>\n",
       "    </tr>\n",
       "  </tbody>\n",
       "</table>\n",
       "<p>251 rows × 7 columns</p>\n",
       "</div>"
      ],
      "text/plain": [
       "             name alpha_3  tld continent      capital       area  population\n",
       "61        Algeria     DZA  .dz        AF      Algiers  2381740.0    34586184\n",
       "7          Angola     AGO  .ao        AF       Luanda  1246700.0    13068161\n",
       "24          Benin     BEN  .bj        AF   Porto-Novo   112620.0     9056010\n",
       "34       Botswana     BWA  .bw        AF     Gaborone   600370.0     2029307\n",
       "20   Burkina Faso     BFA  .bf        AF  Ouagadougou   274200.0    16241811\n",
       "..            ...     ...  ...       ...          ...        ...         ...\n",
       "186      Paraguay     PRY  .py        SM     Asuncion   406750.0     6375830\n",
       "174          Peru     PER  .pe        SM         Lima  1285220.0    29907003\n",
       "208      Suriname     SUR  .sr        SM   Paramaribo   163270.0      492829\n",
       "234       Uruguay     URY  .uy        SM   Montevideo   176220.0     3477000\n",
       "238     Venezuela     VEN  .ve        SM      Caracas   912050.0    27223228\n",
       "\n",
       "[251 rows x 7 columns]"
      ]
     },
     "execution_count": 98,
     "metadata": {},
     "output_type": "execute_result"
    }
   ],
   "source": [
    "country_data.sort_values(by=['continent', 'name'])"
   ]
  },
  {
   "cell_type": "markdown",
   "metadata": {},
   "source": [
    "As you can see, the index (left-most column) labels are sorted along as well.\n",
    "If you want to have a new index for the result, in sorted order,\n",
    "then you can use the function **`reset_index()`**.\n",
    "The old index is preserved as well in the column labeled `'index'`.\n",
    "\n",
    "Let's sort the country data by _population_,\n",
    "reset the index, and assign the result to variable `country_data_sorted_by_pop`:"
   ]
  },
  {
   "cell_type": "code",
   "execution_count": 99,
   "metadata": {},
   "outputs": [
    {
     "data": {
      "text/html": [
       "<div>\n",
       "<style scoped>\n",
       "    .dataframe tbody tr th:only-of-type {\n",
       "        vertical-align: middle;\n",
       "    }\n",
       "\n",
       "    .dataframe tbody tr th {\n",
       "        vertical-align: top;\n",
       "    }\n",
       "\n",
       "    .dataframe thead th {\n",
       "        text-align: right;\n",
       "    }\n",
       "</style>\n",
       "<table border=\"1\" class=\"dataframe\">\n",
       "  <thead>\n",
       "    <tr style=\"text-align: right;\">\n",
       "      <th></th>\n",
       "      <th>index</th>\n",
       "      <th>name</th>\n",
       "      <th>alpha_3</th>\n",
       "      <th>tld</th>\n",
       "      <th>continent</th>\n",
       "      <th>capital</th>\n",
       "      <th>area</th>\n",
       "      <th>population</th>\n",
       "    </tr>\n",
       "  </thead>\n",
       "  <tbody>\n",
       "    <tr>\n",
       "      <th>0</th>\n",
       "      <td>47</td>\n",
       "      <td>China</td>\n",
       "      <td>CHN</td>\n",
       "      <td>.cn</td>\n",
       "      <td>AS</td>\n",
       "      <td>Beijing</td>\n",
       "      <td>9596960.0</td>\n",
       "      <td>1330044000</td>\n",
       "    </tr>\n",
       "    <tr>\n",
       "      <th>1</th>\n",
       "      <td>104</td>\n",
       "      <td>India</td>\n",
       "      <td>IND</td>\n",
       "      <td>.in</td>\n",
       "      <td>AS</td>\n",
       "      <td>New Delhi</td>\n",
       "      <td>3287590.0</td>\n",
       "      <td>1173108018</td>\n",
       "    </tr>\n",
       "    <tr>\n",
       "      <th>2</th>\n",
       "      <td>233</td>\n",
       "      <td>United States</td>\n",
       "      <td>USA</td>\n",
       "      <td>.us</td>\n",
       "      <td>NM</td>\n",
       "      <td>Washington</td>\n",
       "      <td>9629091.0</td>\n",
       "      <td>310232863</td>\n",
       "    </tr>\n",
       "    <tr>\n",
       "      <th>3</th>\n",
       "      <td>100</td>\n",
       "      <td>Indonesia</td>\n",
       "      <td>IDN</td>\n",
       "      <td>.id</td>\n",
       "      <td>AS</td>\n",
       "      <td>Jakarta</td>\n",
       "      <td>1919440.0</td>\n",
       "      <td>242968342</td>\n",
       "    </tr>\n",
       "    <tr>\n",
       "      <th>4</th>\n",
       "      <td>30</td>\n",
       "      <td>Brazil</td>\n",
       "      <td>BRA</td>\n",
       "      <td>.br</td>\n",
       "      <td>SM</td>\n",
       "      <td>Brasilia</td>\n",
       "      <td>8511965.0</td>\n",
       "      <td>201103330</td>\n",
       "    </tr>\n",
       "    <tr>\n",
       "      <th>...</th>\n",
       "      <td>...</td>\n",
       "      <td>...</td>\n",
       "      <td>...</td>\n",
       "      <td>...</td>\n",
       "      <td>...</td>\n",
       "      <td>...</td>\n",
       "      <td>...</td>\n",
       "      <td>...</td>\n",
       "    </tr>\n",
       "    <tr>\n",
       "      <th>246</th>\n",
       "      <td>89</td>\n",
       "      <td>South Georgia and the South Sandwich Islands</td>\n",
       "      <td>SGS</td>\n",
       "      <td>.gs</td>\n",
       "      <td>AN</td>\n",
       "      <td>Grytviken</td>\n",
       "      <td>3903.0</td>\n",
       "      <td>30</td>\n",
       "    </tr>\n",
       "    <tr>\n",
       "      <th>247</th>\n",
       "      <td>232</td>\n",
       "      <td>United States Minor Outlying Islands</td>\n",
       "      <td>UMI</td>\n",
       "      <td>.um</td>\n",
       "      <td>OC</td>\n",
       "      <td>NaN</td>\n",
       "      <td>0.0</td>\n",
       "      <td>0</td>\n",
       "    </tr>\n",
       "    <tr>\n",
       "      <th>248</th>\n",
       "      <td>33</td>\n",
       "      <td>Bouvet Island</td>\n",
       "      <td>BVT</td>\n",
       "      <td>.bv</td>\n",
       "      <td>AN</td>\n",
       "      <td>NaN</td>\n",
       "      <td>49.0</td>\n",
       "      <td>0</td>\n",
       "    </tr>\n",
       "    <tr>\n",
       "      <th>249</th>\n",
       "      <td>8</td>\n",
       "      <td>Antarctica</td>\n",
       "      <td>ATA</td>\n",
       "      <td>.aq</td>\n",
       "      <td>AN</td>\n",
       "      <td>NaN</td>\n",
       "      <td>14000000.0</td>\n",
       "      <td>0</td>\n",
       "    </tr>\n",
       "    <tr>\n",
       "      <th>250</th>\n",
       "      <td>95</td>\n",
       "      <td>Heard Island and McDonald Islands</td>\n",
       "      <td>HMD</td>\n",
       "      <td>.hm</td>\n",
       "      <td>AN</td>\n",
       "      <td>NaN</td>\n",
       "      <td>412.0</td>\n",
       "      <td>0</td>\n",
       "    </tr>\n",
       "  </tbody>\n",
       "</table>\n",
       "<p>251 rows × 8 columns</p>\n",
       "</div>"
      ],
      "text/plain": [
       "     index                                          name alpha_3  tld  \\\n",
       "0       47                                         China     CHN  .cn   \n",
       "1      104                                         India     IND  .in   \n",
       "2      233                                 United States     USA  .us   \n",
       "3      100                                     Indonesia     IDN  .id   \n",
       "4       30                                        Brazil     BRA  .br   \n",
       "..     ...                                           ...     ...  ...   \n",
       "246     89  South Georgia and the South Sandwich Islands     SGS  .gs   \n",
       "247    232          United States Minor Outlying Islands     UMI  .um   \n",
       "248     33                                 Bouvet Island     BVT  .bv   \n",
       "249      8                                    Antarctica     ATA  .aq   \n",
       "250     95             Heard Island and McDonald Islands     HMD  .hm   \n",
       "\n",
       "    continent     capital        area  population  \n",
       "0          AS     Beijing   9596960.0  1330044000  \n",
       "1          AS   New Delhi   3287590.0  1173108018  \n",
       "2          NM  Washington   9629091.0   310232863  \n",
       "3          AS     Jakarta   1919440.0   242968342  \n",
       "4          SM    Brasilia   8511965.0   201103330  \n",
       "..        ...         ...         ...         ...  \n",
       "246        AN   Grytviken      3903.0          30  \n",
       "247        OC         NaN         0.0           0  \n",
       "248        AN         NaN        49.0           0  \n",
       "249        AN         NaN  14000000.0           0  \n",
       "250        AN         NaN       412.0           0  \n",
       "\n",
       "[251 rows x 8 columns]"
      ]
     },
     "execution_count": 99,
     "metadata": {},
     "output_type": "execute_result"
    }
   ],
   "source": [
    "country_data_sorted_by_pop = country_data.sort_values(by='population', ascending=False).reset_index()\n",
    "country_data_sorted_by_pop"
   ]
  },
  {
   "cell_type": "markdown",
   "metadata": {},
   "source": [
    "You can also calculate the sum over column values by adding \".sum()\" behind the selected dataframe. "
   ]
  },
  {
   "cell_type": "code",
   "execution_count": 100,
   "metadata": {},
   "outputs": [
    {
     "data": {
      "text/plain": [
       "area          1.499102e+08\n",
       "population    6.862922e+09\n",
       "dtype: float64"
      ]
     },
     "execution_count": 100,
     "metadata": {},
     "output_type": "execute_result"
    }
   ],
   "source": [
    "country_data[['area', 'population']].sum()"
   ]
  },
  {
   "cell_type": "markdown",
   "metadata": {},
   "source": [
    "### Exercise <span class=\"exercise\">7.a</span>\n",
    "\n",
    "Sort the data on _area_ in descending order,\n",
    "and show the _name_ and _area_ for the first 10 rows."
   ]
  },
  {
   "cell_type": "markdown",
   "metadata": {},
   "source": [
    "##  <span class=\"section\">2.</span> `Index` and `Series` objects\n",
    "\n",
    "To understand Pandas data frames better,\n",
    "you should know about two more data types:\n",
    "\n",
    "* **`pd.Index`**:\n",
    "    this is a special type of object that holds the index;\n",
    "    by default, it is just a range of integers starting from 0.\n",
    "* **`pd.Series`**:\n",
    "    this type represents a single named sequence of data values of the same type,\n",
    "    with an index.  \n",
    "    It is used for a single column in a data frame,\n",
    "    but also for a row extracted from a data frame,\n",
    "    where the column labels then serve as the `Series` index,\n",
    "    and the row index serves as the `Series` name.\n",
    "    \n",
    "Thus, a data frame is a sequence of `Series` objects,\n",
    "with a shared `Index` object.\n",
    "The names of the `Series` objects are the column labels."
   ]
  },
  {
   "cell_type": "code",
   "execution_count": 71,
   "metadata": {},
   "outputs": [],
   "source": [
    "names = ['Peter', 'Anna', 'Tom', 'John', 'Simone']\n",
    "years = [ 1998, 2002, 1946, 1973, 1962 ]"
   ]
  },
  {
   "cell_type": "markdown",
   "metadata": {},
   "source": [
    "This time, instead of creating a data frame, we create a `Series` object out of the information as follows. The `Series` object itself will contain the years of birth, it will be indexed by the names, and the object will be called `'Years of birth'`. We assign the object to variable `se_years`:"
   ]
  },
  {
   "cell_type": "code",
   "execution_count": 72,
   "metadata": {},
   "outputs": [
    {
     "data": {
      "text/plain": [
       "Peter     1998\n",
       "Anna      2002\n",
       "Tom       1946\n",
       "John      1973\n",
       "Simone    1962\n",
       "Name: Years of birth, dtype: int64"
      ]
     },
     "execution_count": 72,
     "metadata": {},
     "output_type": "execute_result"
    }
   ],
   "source": [
    "se_years = pd.Series( years, index=names, name='Years of birth' )\n",
    "se_years"
   ]
  },
  {
   "cell_type": "markdown",
   "metadata": {},
   "source": [
    "##  <span class=\"section\">3.</span> `Functions`\n"
   ]
  },
  {
   "cell_type": "markdown",
   "metadata": {},
   "source": [
    "Functions are usefull when you want to do a certain operation multiple times or on multiple data. A function normally has the shape:\n",
    "```\n",
    "def function_name(*input_parameters*):\n",
    "    perform actions\n",
    "\n",
    "    return *output_values*\n",
    "```\n",
    "\n",
    "To calculate the distance between points you can for example use the function:"
   ]
  },
  {
   "cell_type": "code",
   "execution_count": 73,
   "metadata": {},
   "outputs": [],
   "source": [
    "import math\n",
    "def distance(x1 : int, y1 : int, x2 : int, y2 : int) -> float:\n",
    "    \"\"\"calculates the distance between 2 2-dimensional point\n",
    "    \"\"\"\n",
    "    \n",
    "    dx = x2 - x1\n",
    "    dy = y2 - y1\n",
    "    dsquared = dx**2 + dy**2\n",
    "    result = math.sqrt(dsquared)\n",
    "    \n",
    "    return result"
   ]
  },
  {
   "cell_type": "code",
   "execution_count": 74,
   "metadata": {},
   "outputs": [
    {
     "data": {
      "text/plain": [
       "4.242640687119285"
      ]
     },
     "execution_count": 74,
     "metadata": {},
     "output_type": "execute_result"
    }
   ],
   "source": [
    "distance(1, 3, 4, 6)"
   ]
  },
  {
   "cell_type": "markdown",
   "metadata": {},
   "source": [
    "##  <span class=\"section\">4.</span> `Error Handling`\n",
    "\n",
    "In case of errors, it is often useful to inspect the variable types. We can inspect the type of `DataFrame` and `Series` variables using the **`type()`** function:"
   ]
  },
  {
   "cell_type": "code",
   "execution_count": 75,
   "metadata": {},
   "outputs": [
    {
     "data": {
      "text/plain": [
       "pandas.core.frame.DataFrame"
      ]
     },
     "execution_count": 75,
     "metadata": {},
     "output_type": "execute_result"
    }
   ],
   "source": [
    "type(df) # type of the df variable"
   ]
  },
  {
   "cell_type": "code",
   "execution_count": 76,
   "metadata": {},
   "outputs": [
    {
     "data": {
      "text/plain": [
       "pandas.core.series.Series"
      ]
     },
     "execution_count": 76,
     "metadata": {},
     "output_type": "execute_result"
    }
   ],
   "source": [
    "type(df['C']) # type of the 'C' column in the df DataFrame"
   ]
  },
  {
   "cell_type": "code",
   "execution_count": 77,
   "metadata": {},
   "outputs": [
    {
     "data": {
      "text/plain": [
       "pandas.core.series.Series"
      ]
     },
     "execution_count": 77,
     "metadata": {},
     "output_type": "execute_result"
    }
   ],
   "source": [
    "type(se_years) # type of the se_years variable"
   ]
  },
  {
   "cell_type": "code",
   "execution_count": 78,
   "metadata": {},
   "outputs": [
    {
     "data": {
      "text/plain": [
       "dtype('bool')"
      ]
     },
     "execution_count": 78,
     "metadata": {},
     "output_type": "execute_result"
    }
   ],
   "source": [
    "df.dtypes['C']"
   ]
  },
  {
   "cell_type": "markdown",
   "metadata": {},
   "source": [
    "Note that a column has the `Series` type, which is not the same as the type of the values inside of a column. You can get the type of the values inside of a column using **`df.dtypes`**:"
   ]
  },
  {
   "cell_type": "markdown",
   "metadata": {},
   "source": [
    "Finding the type of certain objects can be very usefull, since they can give information about why certain errors show up when running code.\n"
   ]
  },
  {
   "cell_type": "code",
   "execution_count": 79,
   "metadata": {},
   "outputs": [
    {
     "ename": "TypeError",
     "evalue": "unsupported operand type(s) for -: 'str' and 'int'",
     "output_type": "error",
     "traceback": [
      "\u001b[1;31m---------------------------------------------------------------------------\u001b[0m",
      "\u001b[1;31mTypeError\u001b[0m                                 Traceback (most recent call last)",
      "\u001b[1;32m~\\AppData\\Local\\Temp/ipykernel_2336/2069312767.py\u001b[0m in \u001b[0;36m<module>\u001b[1;34m\u001b[0m\n\u001b[0;32m      2\u001b[0m \u001b[0my\u001b[0m \u001b[1;33m=\u001b[0m \u001b[1;36m5\u001b[0m\u001b[1;33m\u001b[0m\u001b[1;33m\u001b[0m\u001b[0m\n\u001b[0;32m      3\u001b[0m \u001b[1;33m\u001b[0m\u001b[0m\n\u001b[1;32m----> 4\u001b[1;33m \u001b[0mx\u001b[0m\u001b[1;33m-\u001b[0m\u001b[0my\u001b[0m\u001b[1;33m\u001b[0m\u001b[1;33m\u001b[0m\u001b[0m\n\u001b[0m",
      "\u001b[1;31mTypeError\u001b[0m: unsupported operand type(s) for -: 'str' and 'int'"
     ]
    }
   ],
   "source": [
    "x = str(4)\n",
    "y = 5\n",
    "\n",
    "x-y"
   ]
  },
  {
   "cell_type": "markdown",
   "metadata": {},
   "source": [
    "##  <span class=\"section\">5.</span> `Hackathon`\n"
   ]
  },
  {
   "cell_type": "markdown",
   "metadata": {},
   "source": [
    "Now that we have a basic understanding of `DataFrames` and `Series` we can continue to the processing of the data relevant to the hackathon\n"
   ]
  },
  {
   "cell_type": "code",
   "execution_count": 80,
   "metadata": {},
   "outputs": [
    {
     "data": {
      "text/html": [
       "<div>\n",
       "<style scoped>\n",
       "    .dataframe tbody tr th:only-of-type {\n",
       "        vertical-align: middle;\n",
       "    }\n",
       "\n",
       "    .dataframe tbody tr th {\n",
       "        vertical-align: top;\n",
       "    }\n",
       "\n",
       "    .dataframe thead th {\n",
       "        text-align: right;\n",
       "    }\n",
       "</style>\n",
       "<table border=\"1\" class=\"dataframe\">\n",
       "  <thead>\n",
       "    <tr style=\"text-align: right;\">\n",
       "      <th></th>\n",
       "      <th>Unnamed: 0</th>\n",
       "      <th>Period</th>\n",
       "      <th>Characteristic</th>\n",
       "      <th>No.people</th>\n",
       "      <th>Sum</th>\n",
       "      <th>Average</th>\n",
       "      <th>Median</th>\n",
       "    </tr>\n",
       "  </thead>\n",
       "  <tbody>\n",
       "    <tr>\n",
       "      <th>0</th>\n",
       "      <td>2</td>\n",
       "      <td>2011</td>\n",
       "      <td>Total</td>\n",
       "      <td>754.2</td>\n",
       "      <td>9.5</td>\n",
       "      <td>12.6</td>\n",
       "      <td>7.4</td>\n",
       "    </tr>\n",
       "    <tr>\n",
       "      <th>1</th>\n",
       "      <td>3</td>\n",
       "      <td>2011</td>\n",
       "      <td>Man</td>\n",
       "      <td>391.0</td>\n",
       "      <td>5.1</td>\n",
       "      <td>13.1</td>\n",
       "      <td>7.6</td>\n",
       "    </tr>\n",
       "    <tr>\n",
       "      <th>2</th>\n",
       "      <td>4</td>\n",
       "      <td>2011</td>\n",
       "      <td>Woman</td>\n",
       "      <td>363.1</td>\n",
       "      <td>4.4</td>\n",
       "      <td>12.0</td>\n",
       "      <td>7.2</td>\n",
       "    </tr>\n",
       "    <tr>\n",
       "      <th>3</th>\n",
       "      <td>5</td>\n",
       "      <td>2011</td>\n",
       "      <td>up to 20 years old</td>\n",
       "      <td>41.1</td>\n",
       "      <td>0.1</td>\n",
       "      <td>2.5</td>\n",
       "      <td>1.4</td>\n",
       "    </tr>\n",
       "    <tr>\n",
       "      <th>4</th>\n",
       "      <td>6</td>\n",
       "      <td>2011</td>\n",
       "      <td>between 20 and 25 years old</td>\n",
       "      <td>284.8</td>\n",
       "      <td>2.3</td>\n",
       "      <td>8.1</td>\n",
       "      <td>4.8</td>\n",
       "    </tr>\n",
       "    <tr>\n",
       "      <th>...</th>\n",
       "      <td>...</td>\n",
       "      <td>...</td>\n",
       "      <td>...</td>\n",
       "      <td>...</td>\n",
       "      <td>...</td>\n",
       "      <td>...</td>\n",
       "      <td>...</td>\n",
       "    </tr>\n",
       "    <tr>\n",
       "      <th>67</th>\n",
       "      <td>69</td>\n",
       "      <td>2019*</td>\n",
       "      <td>up to 20 years old</td>\n",
       "      <td>104.5</td>\n",
       "      <td>0.4</td>\n",
       "      <td>4.1</td>\n",
       "      <td>2.5</td>\n",
       "    </tr>\n",
       "    <tr>\n",
       "      <th>68</th>\n",
       "      <td>70</td>\n",
       "      <td>2019*</td>\n",
       "      <td>between 20 and 25 years old</td>\n",
       "      <td>479.0</td>\n",
       "      <td>5.2</td>\n",
       "      <td>10.9</td>\n",
       "      <td>7.2</td>\n",
       "    </tr>\n",
       "    <tr>\n",
       "      <th>69</th>\n",
       "      <td>71</td>\n",
       "      <td>2019*</td>\n",
       "      <td>between 25 and 45 years old</td>\n",
       "      <td>822.2</td>\n",
       "      <td>13.6</td>\n",
       "      <td>16.5</td>\n",
       "      <td>10.6</td>\n",
       "    </tr>\n",
       "    <tr>\n",
       "      <th>70</th>\n",
       "      <td>72</td>\n",
       "      <td>2019*</td>\n",
       "      <td>between 45 and 65 years old</td>\n",
       "      <td>7.7</td>\n",
       "      <td>0.1</td>\n",
       "      <td>12.4</td>\n",
       "      <td>6.2</td>\n",
       "    </tr>\n",
       "    <tr>\n",
       "      <th>71</th>\n",
       "      <td>73</td>\n",
       "      <td>2019*</td>\n",
       "      <td>65 years or older</td>\n",
       "      <td>0.3</td>\n",
       "      <td>0.0</td>\n",
       "      <td>9.6</td>\n",
       "      <td>8.1</td>\n",
       "    </tr>\n",
       "  </tbody>\n",
       "</table>\n",
       "<p>72 rows × 7 columns</p>\n",
       "</div>"
      ],
      "text/plain": [
       "    Unnamed: 0 Period               Characteristic  No.people   Sum  Average  \\\n",
       "0            2   2011                        Total      754.2   9.5     12.6   \n",
       "1            3   2011                          Man      391.0   5.1     13.1   \n",
       "2            4   2011                        Woman      363.1   4.4     12.0   \n",
       "3            5   2011           up to 20 years old       41.1   0.1      2.5   \n",
       "4            6   2011  between 20 and 25 years old      284.8   2.3      8.1   \n",
       "..         ...    ...                          ...        ...   ...      ...   \n",
       "67          69  2019*           up to 20 years old      104.5   0.4      4.1   \n",
       "68          70  2019*  between 20 and 25 years old      479.0   5.2     10.9   \n",
       "69          71  2019*  between 25 and 45 years old      822.2  13.6     16.5   \n",
       "70          72  2019*  between 45 and 65 years old        7.7   0.1     12.4   \n",
       "71          73  2019*            65 years or older        0.3   0.0      9.6   \n",
       "\n",
       "    Median  \n",
       "0      7.4  \n",
       "1      7.6  \n",
       "2      7.2  \n",
       "3      1.4  \n",
       "4      4.8  \n",
       "..     ...  \n",
       "67     2.5  \n",
       "68     7.2  \n",
       "69    10.6  \n",
       "70     6.2  \n",
       "71     8.1  \n",
       "\n",
       "[72 rows x 7 columns]"
      ]
     },
     "execution_count": 80,
     "metadata": {},
     "output_type": "execute_result"
    }
   ],
   "source": [
    "import pandas as pd \n",
    "\n",
    "path = './data/student_debt.csv' #this is the file path to my csv\n",
    "\n",
    "df = pd.read_csv(path) #read the csv into a pandas DataFrame\n",
    "df #leave an object at the end of a code cell and it will get printed during execution"
   ]
  },
  {
   "cell_type": "code",
   "execution_count": 81,
   "metadata": {},
   "outputs": [
    {
     "data": {
      "text/plain": [
       "str"
      ]
     },
     "execution_count": 81,
     "metadata": {},
     "output_type": "execute_result"
    }
   ],
   "source": [
    "type(df[\"Period\"][0])"
   ]
  },
  {
   "cell_type": "code",
   "execution_count": 82,
   "metadata": {},
   "outputs": [
    {
     "data": {
      "text/html": [
       "<div>\n",
       "<style scoped>\n",
       "    .dataframe tbody tr th:only-of-type {\n",
       "        vertical-align: middle;\n",
       "    }\n",
       "\n",
       "    .dataframe tbody tr th {\n",
       "        vertical-align: top;\n",
       "    }\n",
       "\n",
       "    .dataframe thead th {\n",
       "        text-align: right;\n",
       "    }\n",
       "</style>\n",
       "<table border=\"1\" class=\"dataframe\">\n",
       "  <thead>\n",
       "    <tr style=\"text-align: right;\">\n",
       "      <th></th>\n",
       "      <th>Unnamed: 0</th>\n",
       "      <th>Period</th>\n",
       "      <th>Characteristic</th>\n",
       "      <th>No.people</th>\n",
       "      <th>Sum</th>\n",
       "      <th>Average</th>\n",
       "      <th>Median</th>\n",
       "    </tr>\n",
       "  </thead>\n",
       "  <tbody>\n",
       "    <tr>\n",
       "      <th>0</th>\n",
       "      <td>2</td>\n",
       "      <td>2011</td>\n",
       "      <td>Total</td>\n",
       "      <td>754.2</td>\n",
       "      <td>9.5</td>\n",
       "      <td>12.6</td>\n",
       "      <td>7.4</td>\n",
       "    </tr>\n",
       "    <tr>\n",
       "      <th>1</th>\n",
       "      <td>3</td>\n",
       "      <td>2011</td>\n",
       "      <td>Man</td>\n",
       "      <td>391.0</td>\n",
       "      <td>5.1</td>\n",
       "      <td>13.1</td>\n",
       "      <td>7.6</td>\n",
       "    </tr>\n",
       "    <tr>\n",
       "      <th>2</th>\n",
       "      <td>4</td>\n",
       "      <td>2011</td>\n",
       "      <td>Woman</td>\n",
       "      <td>363.1</td>\n",
       "      <td>4.4</td>\n",
       "      <td>12.0</td>\n",
       "      <td>7.2</td>\n",
       "    </tr>\n",
       "    <tr>\n",
       "      <th>3</th>\n",
       "      <td>5</td>\n",
       "      <td>2011</td>\n",
       "      <td>up to 20 years old</td>\n",
       "      <td>41.1</td>\n",
       "      <td>0.1</td>\n",
       "      <td>2.5</td>\n",
       "      <td>1.4</td>\n",
       "    </tr>\n",
       "    <tr>\n",
       "      <th>4</th>\n",
       "      <td>6</td>\n",
       "      <td>2011</td>\n",
       "      <td>between 20 and 25 years old</td>\n",
       "      <td>284.8</td>\n",
       "      <td>2.3</td>\n",
       "      <td>8.1</td>\n",
       "      <td>4.8</td>\n",
       "    </tr>\n",
       "  </tbody>\n",
       "</table>\n",
       "</div>"
      ],
      "text/plain": [
       "   Unnamed: 0 Period               Characteristic  No.people  Sum  Average  \\\n",
       "0           2   2011                        Total      754.2  9.5     12.6   \n",
       "1           3   2011                          Man      391.0  5.1     13.1   \n",
       "2           4   2011                        Woman      363.1  4.4     12.0   \n",
       "3           5   2011           up to 20 years old       41.1  0.1      2.5   \n",
       "4           6   2011  between 20 and 25 years old      284.8  2.3      8.1   \n",
       "\n",
       "   Median  \n",
       "0     7.4  \n",
       "1     7.6  \n",
       "2     7.2  \n",
       "3     1.4  \n",
       "4     4.8  "
      ]
     },
     "execution_count": 82,
     "metadata": {},
     "output_type": "execute_result"
    }
   ],
   "source": [
    "#To print out only the first few rows of a dataframe use .head()\n",
    "df.head(5) #print out first 5 rows of our dataframe\n",
    "#you can achieve similar behaviour with .tail() which returns the last few elements in our dataframe"
   ]
  },
  {
   "cell_type": "markdown",
   "metadata": {},
   "source": [
    "You can also easily check the dimensionality (number of rows and columns) of the data set by using the `.shape` attribute."
   ]
  },
  {
   "cell_type": "code",
   "execution_count": 83,
   "metadata": {},
   "outputs": [
    {
     "data": {
      "text/plain": [
       "(72, 7)"
      ]
     },
     "execution_count": 83,
     "metadata": {},
     "output_type": "execute_result"
    }
   ],
   "source": [
    "df.shape # first number is always number of rows, second number is number of columns"
   ]
  },
  {
   "cell_type": "markdown",
   "metadata": {},
   "source": [
    "We can also select just a few columns from our dataframe and form a new dataframe. \n",
    "To do so, specify a list with the column names you want to include, and use the following syntax: `df[list_of_cols]`"
   ]
  },
  {
   "cell_type": "code",
   "execution_count": 84,
   "metadata": {},
   "outputs": [
    {
     "data": {
      "text/html": [
       "<div>\n",
       "<style scoped>\n",
       "    .dataframe tbody tr th:only-of-type {\n",
       "        vertical-align: middle;\n",
       "    }\n",
       "\n",
       "    .dataframe tbody tr th {\n",
       "        vertical-align: top;\n",
       "    }\n",
       "\n",
       "    .dataframe thead th {\n",
       "        text-align: right;\n",
       "    }\n",
       "</style>\n",
       "<table border=\"1\" class=\"dataframe\">\n",
       "  <thead>\n",
       "    <tr style=\"text-align: right;\">\n",
       "      <th></th>\n",
       "      <th>Period</th>\n",
       "      <th>Characteristic</th>\n",
       "      <th>No.people</th>\n",
       "    </tr>\n",
       "  </thead>\n",
       "  <tbody>\n",
       "    <tr>\n",
       "      <th>0</th>\n",
       "      <td>2011</td>\n",
       "      <td>Total</td>\n",
       "      <td>754.2</td>\n",
       "    </tr>\n",
       "    <tr>\n",
       "      <th>1</th>\n",
       "      <td>2011</td>\n",
       "      <td>Man</td>\n",
       "      <td>391.0</td>\n",
       "    </tr>\n",
       "    <tr>\n",
       "      <th>2</th>\n",
       "      <td>2011</td>\n",
       "      <td>Woman</td>\n",
       "      <td>363.1</td>\n",
       "    </tr>\n",
       "    <tr>\n",
       "      <th>3</th>\n",
       "      <td>2011</td>\n",
       "      <td>up to 20 years old</td>\n",
       "      <td>41.1</td>\n",
       "    </tr>\n",
       "    <tr>\n",
       "      <th>4</th>\n",
       "      <td>2011</td>\n",
       "      <td>between 20 and 25 years old</td>\n",
       "      <td>284.8</td>\n",
       "    </tr>\n",
       "  </tbody>\n",
       "</table>\n",
       "</div>"
      ],
      "text/plain": [
       "  Period               Characteristic  No.people\n",
       "0   2011                        Total      754.2\n",
       "1   2011                          Man      391.0\n",
       "2   2011                        Woman      363.1\n",
       "3   2011           up to 20 years old       41.1\n",
       "4   2011  between 20 and 25 years old      284.8"
      ]
     },
     "execution_count": 84,
     "metadata": {},
     "output_type": "execute_result"
    }
   ],
   "source": [
    "columns_to_include = ['Period', 'Characteristic', 'No.people'] #always make sure column names are the same\n",
    "\n",
    "df_nr_people = df[columns_to_include]\n",
    "df_nr_people.head(5) #only the three selected columns are there in our new dataframe"
   ]
  },
  {
   "cell_type": "code",
   "execution_count": 85,
   "metadata": {},
   "outputs": [
    {
     "data": {
      "text/plain": [
       "Index(['Unnamed: 0', 'Period', 'Characteristic', 'No.people', 'Sum', 'Average',\n",
       "       'Median'],\n",
       "      dtype='object')"
      ]
     },
     "execution_count": 85,
     "metadata": {},
     "output_type": "execute_result"
    }
   ],
   "source": [
    "#You can also retrieve all column names in a list-like format by using\n",
    "df.columns #all column names of our df dataframe"
   ]
  },
  {
   "cell_type": "markdown",
   "metadata": {},
   "source": [
    "You can also retrieve just one column of a dataframe by passing the column name in square brackets after the dataframe. This returns a Pandas Series, which can basically be used as a list of values."
   ]
  },
  {
   "cell_type": "code",
   "execution_count": 86,
   "metadata": {},
   "outputs": [
    {
     "data": {
      "text/plain": [
       "0    754.2\n",
       "1    391.0\n",
       "2    363.1\n",
       "3     41.1\n",
       "4    284.8\n",
       "Name: No.people, dtype: float64"
      ]
     },
     "execution_count": 86,
     "metadata": {},
     "output_type": "execute_result"
    }
   ],
   "source": [
    "df['No.people'].head(5) #list of only one column. NOTE: .head() and .tail() still works on Series"
   ]
  },
  {
   "cell_type": "markdown",
   "metadata": {},
   "source": [
    "### Filtering values \n",
    "\n",
    "In Pandas we can also filter our data by selecting rows that fulfill a certain condition.\n",
    "\n",
    "Let's say I want to only look at the rows that contain data about students up to 20 years old. To retrieve this data I can use the `Characteristic` column in the dataframe."
   ]
  },
  {
   "cell_type": "code",
   "execution_count": 87,
   "metadata": {},
   "outputs": [
    {
     "data": {
      "text/html": [
       "<div>\n",
       "<style scoped>\n",
       "    .dataframe tbody tr th:only-of-type {\n",
       "        vertical-align: middle;\n",
       "    }\n",
       "\n",
       "    .dataframe tbody tr th {\n",
       "        vertical-align: top;\n",
       "    }\n",
       "\n",
       "    .dataframe thead th {\n",
       "        text-align: right;\n",
       "    }\n",
       "</style>\n",
       "<table border=\"1\" class=\"dataframe\">\n",
       "  <thead>\n",
       "    <tr style=\"text-align: right;\">\n",
       "      <th></th>\n",
       "      <th>Period</th>\n",
       "      <th>No.people</th>\n",
       "      <th>Average</th>\n",
       "    </tr>\n",
       "  </thead>\n",
       "  <tbody>\n",
       "    <tr>\n",
       "      <th>3</th>\n",
       "      <td>2011</td>\n",
       "      <td>41.1</td>\n",
       "      <td>2.5</td>\n",
       "    </tr>\n",
       "    <tr>\n",
       "      <th>11</th>\n",
       "      <td>2012</td>\n",
       "      <td>40.6</td>\n",
       "      <td>2.2</td>\n",
       "    </tr>\n",
       "    <tr>\n",
       "      <th>19</th>\n",
       "      <td>2013</td>\n",
       "      <td>40.5</td>\n",
       "      <td>2.2</td>\n",
       "    </tr>\n",
       "    <tr>\n",
       "      <th>27</th>\n",
       "      <td>2014</td>\n",
       "      <td>43.8</td>\n",
       "      <td>2.3</td>\n",
       "    </tr>\n",
       "    <tr>\n",
       "      <th>35</th>\n",
       "      <td>2015</td>\n",
       "      <td>48.6</td>\n",
       "      <td>2.4</td>\n",
       "    </tr>\n",
       "    <tr>\n",
       "      <th>43</th>\n",
       "      <td>2016</td>\n",
       "      <td>77.4</td>\n",
       "      <td>2.4</td>\n",
       "    </tr>\n",
       "    <tr>\n",
       "      <th>51</th>\n",
       "      <td>2017</td>\n",
       "      <td>100.3</td>\n",
       "      <td>3.4</td>\n",
       "    </tr>\n",
       "    <tr>\n",
       "      <th>59</th>\n",
       "      <td>2018*</td>\n",
       "      <td>111.3</td>\n",
       "      <td>3.9</td>\n",
       "    </tr>\n",
       "    <tr>\n",
       "      <th>67</th>\n",
       "      <td>2019*</td>\n",
       "      <td>104.5</td>\n",
       "      <td>4.1</td>\n",
       "    </tr>\n",
       "  </tbody>\n",
       "</table>\n",
       "</div>"
      ],
      "text/plain": [
       "   Period  No.people  Average\n",
       "3    2011       41.1      2.5\n",
       "11   2012       40.6      2.2\n",
       "19   2013       40.5      2.2\n",
       "27   2014       43.8      2.3\n",
       "35   2015       48.6      2.4\n",
       "43   2016       77.4      2.4\n",
       "51   2017      100.3      3.4\n",
       "59  2018*      111.3      3.9\n",
       "67  2019*      104.5      4.1"
      ]
     },
     "execution_count": 87,
     "metadata": {},
     "output_type": "execute_result"
    }
   ],
   "source": [
    "## to filter the data we need to specify a condition first\n",
    "upto_20_yo = df['Characteristic'] == 'up to 20 years old' \n",
    "# here we specify that we are interested in rows where the 'Characteristic' column equals 'up to 20 years old' \n",
    "\n",
    "# we can then use this condition to filter our data by simply passing it in square brackets\n",
    "df_upto_20 = df[upto_20_yo]\n",
    "\n",
    "# we can also select certain columns as previously from this new dataframe\n",
    "# Let's say we are only interested in the Year, the No.people and the Average student debt. \n",
    "# We can create a small data frame only containing this information\n",
    "df_upto_20[['Period', 'No.people', 'Average']]"
   ]
  },
  {
   "cell_type": "markdown",
   "metadata": {},
   "source": [
    "### Multiple conditions\n",
    "\n",
    "We sometimes need multiple conditions to perform an analysis. \n",
    "In Pandas, we can pass multiple filters into our dataframe.\n",
    "\n",
    "Let's look at another example:\n",
    "We want to see how many times we have an average student debt higher than 12 (here 12 means 10.000EUR), and we are only interested in the Men and Women categories.\n",
    "\n",
    "We can create multiple filters to achieve this."
   ]
  },
  {
   "cell_type": "code",
   "execution_count": 88,
   "metadata": {},
   "outputs": [
    {
     "data": {
      "text/html": [
       "<div>\n",
       "<style scoped>\n",
       "    .dataframe tbody tr th:only-of-type {\n",
       "        vertical-align: middle;\n",
       "    }\n",
       "\n",
       "    .dataframe tbody tr th {\n",
       "        vertical-align: top;\n",
       "    }\n",
       "\n",
       "    .dataframe thead th {\n",
       "        text-align: right;\n",
       "    }\n",
       "</style>\n",
       "<table border=\"1\" class=\"dataframe\">\n",
       "  <thead>\n",
       "    <tr style=\"text-align: right;\">\n",
       "      <th></th>\n",
       "      <th>Unnamed: 0</th>\n",
       "      <th>Period</th>\n",
       "      <th>Characteristic</th>\n",
       "      <th>No.people</th>\n",
       "      <th>Sum</th>\n",
       "      <th>Average</th>\n",
       "      <th>Median</th>\n",
       "    </tr>\n",
       "  </thead>\n",
       "  <tbody>\n",
       "    <tr>\n",
       "      <th>1</th>\n",
       "      <td>3</td>\n",
       "      <td>2011</td>\n",
       "      <td>Man</td>\n",
       "      <td>391.0</td>\n",
       "      <td>5.1</td>\n",
       "      <td>13.1</td>\n",
       "      <td>7.6</td>\n",
       "    </tr>\n",
       "    <tr>\n",
       "      <th>9</th>\n",
       "      <td>11</td>\n",
       "      <td>2012</td>\n",
       "      <td>Man</td>\n",
       "      <td>449.5</td>\n",
       "      <td>5.5</td>\n",
       "      <td>12.2</td>\n",
       "      <td>6.8</td>\n",
       "    </tr>\n",
       "    <tr>\n",
       "      <th>17</th>\n",
       "      <td>19</td>\n",
       "      <td>2013</td>\n",
       "      <td>Man</td>\n",
       "      <td>474.1</td>\n",
       "      <td>5.8</td>\n",
       "      <td>12.3</td>\n",
       "      <td>6.8</td>\n",
       "    </tr>\n",
       "    <tr>\n",
       "      <th>25</th>\n",
       "      <td>27</td>\n",
       "      <td>2014</td>\n",
       "      <td>Man</td>\n",
       "      <td>501.3</td>\n",
       "      <td>6.3</td>\n",
       "      <td>12.5</td>\n",
       "      <td>7.0</td>\n",
       "    </tr>\n",
       "    <tr>\n",
       "      <th>33</th>\n",
       "      <td>35</td>\n",
       "      <td>2015</td>\n",
       "      <td>Man</td>\n",
       "      <td>529.7</td>\n",
       "      <td>6.7</td>\n",
       "      <td>12.7</td>\n",
       "      <td>7.1</td>\n",
       "    </tr>\n",
       "    <tr>\n",
       "      <th>34</th>\n",
       "      <td>36</td>\n",
       "      <td>2015</td>\n",
       "      <td>Woman</td>\n",
       "      <td>495.7</td>\n",
       "      <td>6.0</td>\n",
       "      <td>12.1</td>\n",
       "      <td>7.0</td>\n",
       "    </tr>\n",
       "    <tr>\n",
       "      <th>41</th>\n",
       "      <td>43</td>\n",
       "      <td>2016</td>\n",
       "      <td>Man</td>\n",
       "      <td>583.7</td>\n",
       "      <td>7.4</td>\n",
       "      <td>12.6</td>\n",
       "      <td>6.8</td>\n",
       "    </tr>\n",
       "    <tr>\n",
       "      <th>49</th>\n",
       "      <td>51</td>\n",
       "      <td>2017</td>\n",
       "      <td>Man</td>\n",
       "      <td>632.1</td>\n",
       "      <td>8.1</td>\n",
       "      <td>12.8</td>\n",
       "      <td>7.3</td>\n",
       "    </tr>\n",
       "    <tr>\n",
       "      <th>50</th>\n",
       "      <td>52</td>\n",
       "      <td>2017</td>\n",
       "      <td>Woman</td>\n",
       "      <td>605.5</td>\n",
       "      <td>7.3</td>\n",
       "      <td>12.1</td>\n",
       "      <td>7.1</td>\n",
       "    </tr>\n",
       "    <tr>\n",
       "      <th>57</th>\n",
       "      <td>59</td>\n",
       "      <td>2018*</td>\n",
       "      <td>Man</td>\n",
       "      <td>687.1</td>\n",
       "      <td>9.1</td>\n",
       "      <td>13.2</td>\n",
       "      <td>7.8</td>\n",
       "    </tr>\n",
       "    <tr>\n",
       "      <th>58</th>\n",
       "      <td>60</td>\n",
       "      <td>2018*</td>\n",
       "      <td>Woman</td>\n",
       "      <td>662.1</td>\n",
       "      <td>8.4</td>\n",
       "      <td>12.6</td>\n",
       "      <td>7.7</td>\n",
       "    </tr>\n",
       "    <tr>\n",
       "      <th>65</th>\n",
       "      <td>67</td>\n",
       "      <td>2019*</td>\n",
       "      <td>Man</td>\n",
       "      <td>716.6</td>\n",
       "      <td>10.0</td>\n",
       "      <td>13.9</td>\n",
       "      <td>8.4</td>\n",
       "    </tr>\n",
       "    <tr>\n",
       "      <th>66</th>\n",
       "      <td>68</td>\n",
       "      <td>2019*</td>\n",
       "      <td>Woman</td>\n",
       "      <td>697.0</td>\n",
       "      <td>9.3</td>\n",
       "      <td>13.4</td>\n",
       "      <td>8.4</td>\n",
       "    </tr>\n",
       "  </tbody>\n",
       "</table>\n",
       "</div>"
      ],
      "text/plain": [
       "    Unnamed: 0 Period Characteristic  No.people   Sum  Average  Median\n",
       "1            3   2011            Man      391.0   5.1     13.1     7.6\n",
       "9           11   2012            Man      449.5   5.5     12.2     6.8\n",
       "17          19   2013            Man      474.1   5.8     12.3     6.8\n",
       "25          27   2014            Man      501.3   6.3     12.5     7.0\n",
       "33          35   2015            Man      529.7   6.7     12.7     7.1\n",
       "34          36   2015          Woman      495.7   6.0     12.1     7.0\n",
       "41          43   2016            Man      583.7   7.4     12.6     6.8\n",
       "49          51   2017            Man      632.1   8.1     12.8     7.3\n",
       "50          52   2017          Woman      605.5   7.3     12.1     7.1\n",
       "57          59  2018*            Man      687.1   9.1     13.2     7.8\n",
       "58          60  2018*          Woman      662.1   8.4     12.6     7.7\n",
       "65          67  2019*            Man      716.6  10.0     13.9     8.4\n",
       "66          68  2019*          Woman      697.0   9.3     13.4     8.4"
      ]
     },
     "execution_count": 88,
     "metadata": {},
     "output_type": "execute_result"
    }
   ],
   "source": [
    "high_average = df['Average'] > 12.0 \n",
    "\n",
    "characteristics_of_interest = ['Man', 'Woman']\n",
    "#To make a filter based on whether a value is contained in a list, use the .isin() function of Pandas\n",
    "men_women = df['Characteristic'].isin(characteristics_of_interest) \n",
    "\n",
    "#Link these two conditionals together using & symbol\n",
    "df[high_average & men_women]"
   ]
  },
  {
   "cell_type": "markdown",
   "metadata": {},
   "source": [
    "Using filters like this we can already answer a few questions from the data. Above, we can see that there are more entries for `Man` than for `Woman`. Also, if you look at the statistics (`Sum, Average, Median`), can you spot any pattern?\n",
    "\n",
    " What do you think these suggest?\n",
    "\n",
    "# Practice exercises\n",
    "\n",
    "Below are some practice exercises you should be able to do. \n",
    "We will not specify exact steps, but rather questions that you can answer with the data, as we are curious whether you can find the answer.\n",
    "For the exercises use the `renewable_electricitry.csv` file available to download in teamlinq or in the data dashboard.\n",
    "\n"
   ]
  },
  {
   "cell_type": "code",
   "execution_count": 105,
   "metadata": {},
   "outputs": [
    {
     "data": {
      "text/html": [
       "<div>\n",
       "<style scoped>\n",
       "    .dataframe tbody tr th:only-of-type {\n",
       "        vertical-align: middle;\n",
       "    }\n",
       "\n",
       "    .dataframe tbody tr th {\n",
       "        vertical-align: top;\n",
       "    }\n",
       "\n",
       "    .dataframe thead th {\n",
       "        text-align: right;\n",
       "    }\n",
       "</style>\n",
       "<table border=\"1\" class=\"dataframe\">\n",
       "  <thead>\n",
       "    <tr style=\"text-align: right;\">\n",
       "      <th></th>\n",
       "      <th>Unnamed: 0</th>\n",
       "      <th>ID</th>\n",
       "      <th>Source</th>\n",
       "      <th>Periods</th>\n",
       "      <th>Gross production normalized</th>\n",
       "      <th>Gross production</th>\n",
       "      <th>Net production</th>\n",
       "      <th>Installations in year</th>\n",
       "      <th>Capacity (megawatt)</th>\n",
       "    </tr>\n",
       "  </thead>\n",
       "  <tbody>\n",
       "    <tr>\n",
       "      <th>0</th>\n",
       "      <td>0</td>\n",
       "      <td>0</td>\n",
       "      <td>Total</td>\n",
       "      <td>1990</td>\n",
       "      <td>809</td>\n",
       "      <td>807</td>\n",
       "      <td>725</td>\n",
       "      <td>0</td>\n",
       "      <td>0</td>\n",
       "    </tr>\n",
       "    <tr>\n",
       "      <th>1</th>\n",
       "      <td>1</td>\n",
       "      <td>1</td>\n",
       "      <td>Total</td>\n",
       "      <td>1991</td>\n",
       "      <td>930</td>\n",
       "      <td>935</td>\n",
       "      <td>851</td>\n",
       "      <td>0</td>\n",
       "      <td>0</td>\n",
       "    </tr>\n",
       "    <tr>\n",
       "      <th>2</th>\n",
       "      <td>2</td>\n",
       "      <td>2</td>\n",
       "      <td>Total</td>\n",
       "      <td>1992</td>\n",
       "      <td>982</td>\n",
       "      <td>994</td>\n",
       "      <td>898</td>\n",
       "      <td>0</td>\n",
       "      <td>0</td>\n",
       "    </tr>\n",
       "    <tr>\n",
       "      <th>3</th>\n",
       "      <td>3</td>\n",
       "      <td>3</td>\n",
       "      <td>Total</td>\n",
       "      <td>1993</td>\n",
       "      <td>1128</td>\n",
       "      <td>1107</td>\n",
       "      <td>957</td>\n",
       "      <td>0</td>\n",
       "      <td>0</td>\n",
       "    </tr>\n",
       "    <tr>\n",
       "      <th>4</th>\n",
       "      <td>4</td>\n",
       "      <td>4</td>\n",
       "      <td>Total</td>\n",
       "      <td>1994</td>\n",
       "      <td>1252</td>\n",
       "      <td>1257</td>\n",
       "      <td>1093</td>\n",
       "      <td>0</td>\n",
       "      <td>0</td>\n",
       "    </tr>\n",
       "    <tr>\n",
       "      <th>...</th>\n",
       "      <td>...</td>\n",
       "      <td>...</td>\n",
       "      <td>...</td>\n",
       "      <td>...</td>\n",
       "      <td>...</td>\n",
       "      <td>...</td>\n",
       "      <td>...</td>\n",
       "      <td>...</td>\n",
       "      <td>...</td>\n",
       "    </tr>\n",
       "    <tr>\n",
       "      <th>460</th>\n",
       "      <td>460</td>\n",
       "      <td>460</td>\n",
       "      <td>biogas-other</td>\n",
       "      <td>2016</td>\n",
       "      <td>326</td>\n",
       "      <td>227</td>\n",
       "      <td>219</td>\n",
       "      <td>0</td>\n",
       "      <td>43</td>\n",
       "    </tr>\n",
       "    <tr>\n",
       "      <th>461</th>\n",
       "      <td>461</td>\n",
       "      <td>461</td>\n",
       "      <td>biogas-other</td>\n",
       "      <td>2017</td>\n",
       "      <td>312</td>\n",
       "      <td>189</td>\n",
       "      <td>183</td>\n",
       "      <td>0</td>\n",
       "      <td>43</td>\n",
       "    </tr>\n",
       "    <tr>\n",
       "      <th>462</th>\n",
       "      <td>462</td>\n",
       "      <td>462</td>\n",
       "      <td>biogas-other</td>\n",
       "      <td>2018</td>\n",
       "      <td>279</td>\n",
       "      <td>175</td>\n",
       "      <td>170</td>\n",
       "      <td>0</td>\n",
       "      <td>41</td>\n",
       "    </tr>\n",
       "    <tr>\n",
       "      <th>463</th>\n",
       "      <td>463</td>\n",
       "      <td>463</td>\n",
       "      <td>biogas-other</td>\n",
       "      <td>2019</td>\n",
       "      <td>316</td>\n",
       "      <td>201</td>\n",
       "      <td>195</td>\n",
       "      <td>0</td>\n",
       "      <td>42</td>\n",
       "    </tr>\n",
       "    <tr>\n",
       "      <th>464</th>\n",
       "      <td>464</td>\n",
       "      <td>464</td>\n",
       "      <td>biogas-other</td>\n",
       "      <td>2020</td>\n",
       "      <td>327</td>\n",
       "      <td>192</td>\n",
       "      <td>186</td>\n",
       "      <td>0</td>\n",
       "      <td>0</td>\n",
       "    </tr>\n",
       "  </tbody>\n",
       "</table>\n",
       "<p>465 rows × 9 columns</p>\n",
       "</div>"
      ],
      "text/plain": [
       "     Unnamed: 0   ID        Source  Periods  Gross production normalized  \\\n",
       "0             0    0         Total     1990                          809   \n",
       "1             1    1         Total     1991                          930   \n",
       "2             2    2         Total     1992                          982   \n",
       "3             3    3         Total     1993                         1128   \n",
       "4             4    4         Total     1994                         1252   \n",
       "..          ...  ...           ...      ...                          ...   \n",
       "460         460  460  biogas-other     2016                          326   \n",
       "461         461  461  biogas-other     2017                          312   \n",
       "462         462  462  biogas-other     2018                          279   \n",
       "463         463  463  biogas-other     2019                          316   \n",
       "464         464  464  biogas-other     2020                          327   \n",
       "\n",
       "     Gross production  Net production  Installations in year  \\\n",
       "0                 807             725                      0   \n",
       "1                 935             851                      0   \n",
       "2                 994             898                      0   \n",
       "3                1107             957                      0   \n",
       "4                1257            1093                      0   \n",
       "..                ...             ...                    ...   \n",
       "460               227             219                      0   \n",
       "461               189             183                      0   \n",
       "462               175             170                      0   \n",
       "463               201             195                      0   \n",
       "464               192             186                      0   \n",
       "\n",
       "     Capacity (megawatt)  \n",
       "0                      0  \n",
       "1                      0  \n",
       "2                      0  \n",
       "3                      0  \n",
       "4                      0  \n",
       "..                   ...  \n",
       "460                   43  \n",
       "461                   43  \n",
       "462                   41  \n",
       "463                   42  \n",
       "464                    0  \n",
       "\n",
       "[465 rows x 9 columns]"
      ]
     },
     "execution_count": 105,
     "metadata": {},
     "output_type": "execute_result"
    }
   ],
   "source": [
    "df = pd.read_csv('./data/renewable_electricity.csv')\n",
    "df\n"
   ]
  },
  {
   "cell_type": "markdown",
   "metadata": {},
   "source": [
    "### Question 1:\n",
    "How many different `Source` values are there in the dataset?\n"
   ]
  },
  {
   "cell_type": "code",
   "execution_count": 90,
   "metadata": {},
   "outputs": [],
   "source": [
    "### insert your code for Question 1 below:\n"
   ]
  },
  {
   "cell_type": "markdown",
   "metadata": {},
   "source": [
    "### Question 2:\n",
    "How many rows do we have in the data with information about reneable electricity in 1990 or 1991?"
   ]
  },
  {
   "cell_type": "code",
   "execution_count": 91,
   "metadata": {},
   "outputs": [],
   "source": [
    "### insert your code for Question 2 below:\n",
    "\n"
   ]
  },
  {
   "cell_type": "markdown",
   "metadata": {},
   "source": [
    "### Question 3:\n",
    "How many times (i.e. in how many years) did the Dutch government **not** install a single offshore wind plant (hint: the source is called `wind-offshore`)?"
   ]
  },
  {
   "cell_type": "code",
   "execution_count": 92,
   "metadata": {},
   "outputs": [],
   "source": [
    "### insert your code for Question 3 below:\n"
   ]
  },
  {
   "cell_type": "markdown",
   "metadata": {},
   "source": [
    "### Question 4:\n",
    "Create a function that returns the mean value for `Gross Production normalized` over all the possible time periods given a certain value for Source."
   ]
  },
  {
   "cell_type": "code",
   "execution_count": 93,
   "metadata": {},
   "outputs": [],
   "source": [
    "def calc_mean(df, source):\n",
    "    \"\"\"\n",
    "    write the code below that would calculate the mean of the Gross Production normalized values for a given \"Source\" \n",
    "    \"\"\"\n",
    "\n",
    "    return mean"
   ]
  },
  {
   "cell_type": "code",
   "execution_count": 94,
   "metadata": {},
   "outputs": [
    {
     "ename": "NameError",
     "evalue": "name 'mean' is not defined",
     "output_type": "error",
     "traceback": [
      "\u001b[1;31m---------------------------------------------------------------------------\u001b[0m",
      "\u001b[1;31mNameError\u001b[0m                                 Traceback (most recent call last)",
      "\u001b[1;32m~\\AppData\\Local\\Temp/ipykernel_2336/4290122164.py\u001b[0m in \u001b[0;36m<module>\u001b[1;34m\u001b[0m\n\u001b[1;32m----> 1\u001b[1;33m \u001b[0mcalc_mean\u001b[0m\u001b[1;33m(\u001b[0m\u001b[0mdf\u001b[0m\u001b[1;33m,\u001b[0m \u001b[0msource\u001b[0m \u001b[1;33m=\u001b[0m \u001b[1;34m\"biogas-other\"\u001b[0m\u001b[1;33m)\u001b[0m\u001b[1;33m\u001b[0m\u001b[1;33m\u001b[0m\u001b[0m\n\u001b[0m",
      "\u001b[1;32m~\\AppData\\Local\\Temp/ipykernel_2336/1101751778.py\u001b[0m in \u001b[0;36mcalc_mean\u001b[1;34m(df, source)\u001b[0m\n\u001b[0;32m      3\u001b[0m     \u001b[0mwrite\u001b[0m \u001b[0mthe\u001b[0m \u001b[0mcode\u001b[0m \u001b[0mbelow\u001b[0m \u001b[0mthat\u001b[0m \u001b[0mwould\u001b[0m \u001b[0mcalculate\u001b[0m \u001b[0mthe\u001b[0m \u001b[0mmean\u001b[0m \u001b[0mof\u001b[0m \u001b[0mthe\u001b[0m \u001b[0mGross\u001b[0m \u001b[0mProduction\u001b[0m \u001b[0mnormalized\u001b[0m \u001b[0mvalues\u001b[0m \u001b[1;32mfor\u001b[0m \u001b[0ma\u001b[0m \u001b[0mgiven\u001b[0m \u001b[1;34m\"Source\"\u001b[0m\u001b[1;33m\u001b[0m\u001b[1;33m\u001b[0m\u001b[0m\n\u001b[0;32m      4\u001b[0m     \"\"\"\n\u001b[1;32m----> 5\u001b[1;33m     \u001b[1;32mreturn\u001b[0m \u001b[0mmean\u001b[0m\u001b[1;33m\u001b[0m\u001b[1;33m\u001b[0m\u001b[0m\n\u001b[0m",
      "\u001b[1;31mNameError\u001b[0m: name 'mean' is not defined"
     ]
    }
   ],
   "source": [
    "calc_mean(df, source = \"biogas-other\")"
   ]
  },
  {
   "cell_type": "markdown",
   "metadata": {},
   "source": [
    "### Question 5:\n",
    "\n",
    "For question 5 we will combine 2 datasets from the Hackathon. In the water track there are 2 datasets that contain data for each manucipality. One of the datasets contain all the names of the manucipalities in Noord-Brabant, while the second dataset contains data from all the manucipalities in the netherlands.\n",
    "\n",
    "The Task for this question is to select only manucipalities that are located in Noord-Brabant from the `municipality_data` dataframe and assign it to a new dataframe object."
   ]
  },
  {
   "cell_type": "code",
   "execution_count": 106,
   "metadata": {},
   "outputs": [],
   "source": [
    "municipality_data = pd.read_csv(\"./data/municipality_data.csv\")\n",
    "municipality_NB = pd.read_csv(\"./data/brabant_cities.csv\")"
   ]
  }
 ],
 "metadata": {
  "kernelspec": {
   "display_name": "Python 3.9.13 64-bit (windows store)",
   "language": "python",
   "name": "python3"
  },
  "language_info": {
   "codemirror_mode": {
    "name": "ipython",
    "version": 3
   },
   "file_extension": ".py",
   "mimetype": "text/x-python",
   "name": "python",
   "nbconvert_exporter": "python",
   "pygments_lexer": "ipython3",
   "version": "3.9.13"
  },
  "orig_nbformat": 4,
  "vscode": {
   "interpreter": {
    "hash": "df75f3e6d56a10fa6f9475daed9b13d962511fe42a403018c62c865b6b5694a8"
   }
  }
 },
 "nbformat": 4,
 "nbformat_minor": 2
}
